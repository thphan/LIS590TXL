{
 "cells": [
  {
   "cell_type": "code",
   "execution_count": 9,
   "metadata": {
    "collapsed": false
   },
   "outputs": [],
   "source": [
    "from sklearn.feature_extraction.text import CountVectorizer\n",
    "from sklearn.feature_extraction.text import TfidfTransformer\n",
    "from sklearn.decomposition import TruncatedSVD\n",
    "from sklearn.pipeline import Pipeline\n",
    "from sklearn.naive_bayes import MultinomialNB\n",
    "from sklearn.linear_model import SGDClassifier\n",
    "from sklearn.linear_model import LogisticRegression\n",
    "from sklearn.tree import DecisionTreeClassifier\n",
    "from sklearn.externals import joblib\n",
    "from sklearn import metrics\n",
    "from nltk.corpus import stopwords\n",
    "from nltk.stem import WordNetLemmatizer\n",
    "\n",
    "import pandas as pd\n",
    "import numpy as np\n",
    "import re"
   ]
  },
  {
   "cell_type": "code",
   "execution_count": 10,
   "metadata": {
    "collapsed": false
   },
   "outputs": [],
   "source": [
    "stoplist = set(stopwords.words('english'))\n",
    "lem=WordNetLemmatizer()"
   ]
  },
  {
   "cell_type": "code",
   "execution_count": 89,
   "metadata": {
    "collapsed": false
   },
   "outputs": [],
   "source": [
    "#Function for data cleaning for all datasets\n",
    "def contentCleaning(df):\n",
    "    df=df[['content','sentiment']].drop_duplicates()\n",
    "    filtered_content=df['content']\n",
    "    filtered_content=[row.lower() for row in filtered_content]\n",
    "    for i in range(0,len(filtered_content)):\n",
    "        temp=\"\"\n",
    "        for w in filtered_content[i].split():           \n",
    "            while (len(w)>0 and (not re.match(\"[a-z]\",w[len(w)-1]))):\n",
    "                w=w.replace(w[len(w)-1],\"\")\n",
    "            while (len(w)>0 and (not re.match(\"[a-z]\",w[0]))):\n",
    "                w=w.replace(w[0],\"\")\n",
    "            if (w.find(\"http\")!=-1):\n",
    "                w=\"\"\n",
    "            if w not in stoplist:\n",
    "                w=lem.lemmatize(w)\n",
    "                temp=temp+\" \"+w\n",
    "            filtered_content[i]=temp\n",
    "    df['refined_content']=filtered_content\n",
    "    return df"
   ]
  },
  {
   "cell_type": "code",
   "execution_count": 153,
   "metadata": {
    "collapsed": true
   },
   "outputs": [],
   "source": [
    "def contentCleaning2(df):\n",
    "    filtered_content=df['content']\n",
    "    filtered_content=[row.lower() for row in filtered_content]\n",
    "    for i in range(0,len(filtered_content)):\n",
    "        temp=\"\"\n",
    "        for w in filtered_content[i].split():           \n",
    "            while (len(w)>0 and (not re.match(\"[a-z]\",w[len(w)-1]))):\n",
    "                w=w.replace(w[len(w)-1],\"\")\n",
    "            while (len(w)>0 and (not re.match(\"[a-z]\",w[0]))):\n",
    "                w=w.replace(w[0],\"\")\n",
    "            if (w.find(\"http\")!=-1):\n",
    "                w=\"\"\n",
    "            if w not in stoplist:\n",
    "                w=lem.lemmatize(w)\n",
    "                temp=temp+\" \"+w\n",
    "            filtered_content[i]=temp\n",
    "    df['refined_content']=filtered_content\n",
    "    return df"
   ]
  },
  {
   "cell_type": "markdown",
   "metadata": {},
   "source": [
    "# [Dataset 1] The Affect data by Cecilia Ovesdotter Alm:\n",
    "http://people.rc.rit.edu/~coagla/affectdata/index.html\n",
    "\n",
    "The dataset was collected by Cecilia Ovesdotter Alm for her dissertation research based on the Fairy Tale corpus of approximately 185 children stories by Grimms’, Andersen’s and B.Potter’s.\n",
    "The documents in dataset were annotated with 5 basic emotions Angry-Disgusted (code: 2), Fearful (code: 3), Happy (code: 4), Sad (code: 6), and Surprised (code: 7)\n",
    "The dataset consists of 3 files: \n",
    "- GrimmsAll4labsagree.txt \n",
    "- hcand460All4labsagree.txt  \n",
    "- Potter167All4labsagree.txt"
   ]
  },
  {
   "cell_type": "code",
   "execution_count": 91,
   "metadata": {
    "collapsed": true
   },
   "outputs": [],
   "source": [
    "#Load dataset 1 into dataframe df1\n",
    "path1=\"T:/MSIM/LIS590TXL - Text Mining/Assignment/Final Project/Data Collection/CeciliaAffectedData/\"\n",
    "file_list={\"GrimmsAll4labsagree.txt\",\"hcand460All4labsagree.txt\",\"Potter167All4labsagree.txt\"}\n",
    "df1 = pd.DataFrame()\n",
    "for i in file_list:\n",
    "    lines = [line.rstrip('\\n') for line in open(path1+i)]\n",
    "    temp_df = pd.DataFrame([l.split(\"@\") for l in lines],columns=['docno','sentiment_code','content'])\n",
    "    df1=pd.concat([df1,temp_df],ignore_index=True)"
   ]
  },
  {
   "cell_type": "code",
   "execution_count": 92,
   "metadata": {
    "collapsed": false
   },
   "outputs": [],
   "source": [
    "#Data cleaning, specifically for df1\n",
    "#remove the records do not include sentiment code\n",
    "df1=df1[pd.isnull(df1['sentiment_code'])==False]\n",
    "#map sentiment code with sentiment.\n",
    "df1_dict = {'2':\"anger-disgust\", '3': \"fear\", '4': \"joy\", '6': \"sadness\", '7': \"surprise\" }\n",
    "df1['sentiment']=df1['sentiment_code'].map(df1_dict)"
   ]
  },
  {
   "cell_type": "code",
   "execution_count": 93,
   "metadata": {
    "collapsed": false
   },
   "outputs": [],
   "source": [
    "#content cleaning for df1\n",
    "df1=contentCleaning(df1)"
   ]
  },
  {
   "cell_type": "code",
   "execution_count": 94,
   "metadata": {
    "collapsed": false
   },
   "outputs": [
    {
     "data": {
      "text/html": [
       "<div>\n",
       "<table border=\"1\" class=\"dataframe\">\n",
       "  <thead>\n",
       "    <tr style=\"text-align: right;\">\n",
       "      <th></th>\n",
       "      <th>content</th>\n",
       "      <th>refined_content</th>\n",
       "    </tr>\n",
       "    <tr>\n",
       "      <th>sentiment</th>\n",
       "      <th></th>\n",
       "      <th></th>\n",
       "    </tr>\n",
       "  </thead>\n",
       "  <tbody>\n",
       "    <tr>\n",
       "      <th>anger-disgust</th>\n",
       "      <td>217</td>\n",
       "      <td>217</td>\n",
       "    </tr>\n",
       "    <tr>\n",
       "      <th>fear</th>\n",
       "      <td>166</td>\n",
       "      <td>166</td>\n",
       "    </tr>\n",
       "    <tr>\n",
       "      <th>joy</th>\n",
       "      <td>444</td>\n",
       "      <td>444</td>\n",
       "    </tr>\n",
       "    <tr>\n",
       "      <th>sadness</th>\n",
       "      <td>264</td>\n",
       "      <td>264</td>\n",
       "    </tr>\n",
       "    <tr>\n",
       "      <th>surprise</th>\n",
       "      <td>114</td>\n",
       "      <td>114</td>\n",
       "    </tr>\n",
       "  </tbody>\n",
       "</table>\n",
       "</div>"
      ],
      "text/plain": [
       "               content  refined_content\n",
       "sentiment                              \n",
       "anger-disgust      217              217\n",
       "fear               166              166\n",
       "joy                444              444\n",
       "sadness            264              264\n",
       "surprise           114              114"
      ]
     },
     "execution_count": 94,
     "metadata": {},
     "output_type": "execute_result"
    }
   ],
   "source": [
    "df1.groupby('sentiment').count()"
   ]
  },
  {
   "cell_type": "markdown",
   "metadata": {},
   "source": [
    "# [Dataset 2] SemEval 2007:\n",
    "This is the “Affective Text” from the SemEval 2007 task. It contains 1250 news headlines from newspaper and news websites such as such as Google news, CNN; and is labeled into six basic emotion classes - anger, disgust, fear, joy, sadness and surprise. Each sentence (specified by an id from 1 to 1250) can have multiple tags corresponding to multiple emotions the sentence can express with scoring for intensity from 0 to 100."
   ]
  },
  {
   "cell_type": "code",
   "execution_count": 95,
   "metadata": {
    "collapsed": false
   },
   "outputs": [],
   "source": [
    "#Load dataset 2 into dataframe df2\n",
    "#Step 1: document id - content\n",
    "from lxml import etree\n",
    "path2=\"T:/MSIM/LIS590TXL - Text Mining/Assignment/Final Project/Data Collection/SemEval/AffectiveText/\"\n",
    "file_list={\"affectivetext_test.xml\",\"affectivetext_trial.xml\"}\n",
    "df2_data=pd.DataFrame()\n",
    "for filename in file_list:\n",
    "    parser = etree.XMLParser(recover=True)\n",
    "    tree = etree.parse(path2+filename,parser=parser)\n",
    "    root = tree.getroot()\n",
    "    for instance in root.findall('instance'):\n",
    "        temp_df=pd.DataFrame([[int(instance.get('id')),instance.text]],columns=['docid','content'])\n",
    "        df2_data=pd.concat([df2_data,temp_df],ignore_index=True)"
   ]
  },
  {
   "cell_type": "code",
   "execution_count": 96,
   "metadata": {
    "collapsed": false
   },
   "outputs": [],
   "source": [
    "#Step 2: Load document id - sentiment\n",
    "file_list={\"affectivetext_test.emotions.gold\",\"affectivetext_trial.emotions.gold\"}\n",
    "df2_label=pd.DataFrame()\n",
    "for filename in file_list:\n",
    "    temp_df=pd.read_table(path2+filename, sep=\" \", names =['docid','anger','disgust','fear','joy','sadness','surprise'])\n",
    "    df2_label=pd.concat([df2_label,temp_df],ignore_index=True)\n",
    "df2_label['anger-disgust']=df2_label['anger']+df2_label['disgust']\n",
    "df2_label.drop(['anger','disgust'],inplace=True,axis=1)\n",
    "df2_label=pd.melt(df2_label, id_vars=['docid'], value_vars=['fear','joy','sadness','surprise','anger-disgust'],var_name='sentiment')"
   ]
  },
  {
   "cell_type": "code",
   "execution_count": 97,
   "metadata": {
    "collapsed": false
   },
   "outputs": [],
   "source": [
    "#assign the sentiment to doc based on the largest sentiment value\n",
    "#df2_label=df2_label[df2_label['value']>20]\n",
    "df2_label['max_value'] = df2_label.groupby(['docid'])['value'].transform(max)\n",
    "df2_label=df2_label[df2_label['value']==df2_label['max_value']]"
   ]
  },
  {
   "cell_type": "code",
   "execution_count": 98,
   "metadata": {
    "collapsed": false
   },
   "outputs": [],
   "source": [
    "#Step 3 - merge docid-content (df2_data) and docid-sentiment (df2_label) into 1 dataframe df2\n",
    "df2=pd.merge(df2_data, df2_label[['docid','sentiment']], on='docid')"
   ]
  },
  {
   "cell_type": "code",
   "execution_count": 99,
   "metadata": {
    "collapsed": true
   },
   "outputs": [],
   "source": [
    "#content cleaning for df2\n",
    "df2=contentCleaning(df2)"
   ]
  },
  {
   "cell_type": "code",
   "execution_count": 100,
   "metadata": {
    "collapsed": false
   },
   "outputs": [
    {
     "data": {
      "text/html": [
       "<div>\n",
       "<table border=\"1\" class=\"dataframe\">\n",
       "  <thead>\n",
       "    <tr style=\"text-align: right;\">\n",
       "      <th></th>\n",
       "      <th>content</th>\n",
       "      <th>refined_content</th>\n",
       "    </tr>\n",
       "    <tr>\n",
       "      <th>sentiment</th>\n",
       "      <th></th>\n",
       "      <th></th>\n",
       "    </tr>\n",
       "  </thead>\n",
       "  <tbody>\n",
       "    <tr>\n",
       "      <th>anger-disgust</th>\n",
       "      <td>211</td>\n",
       "      <td>211</td>\n",
       "    </tr>\n",
       "    <tr>\n",
       "      <th>fear</th>\n",
       "      <td>166</td>\n",
       "      <td>166</td>\n",
       "    </tr>\n",
       "    <tr>\n",
       "      <th>joy</th>\n",
       "      <td>438</td>\n",
       "      <td>438</td>\n",
       "    </tr>\n",
       "    <tr>\n",
       "      <th>sadness</th>\n",
       "      <td>240</td>\n",
       "      <td>240</td>\n",
       "    </tr>\n",
       "    <tr>\n",
       "      <th>surprise</th>\n",
       "      <td>220</td>\n",
       "      <td>220</td>\n",
       "    </tr>\n",
       "  </tbody>\n",
       "</table>\n",
       "</div>"
      ],
      "text/plain": [
       "               content  refined_content\n",
       "sentiment                              \n",
       "anger-disgust      211              211\n",
       "fear               166              166\n",
       "joy                438              438\n",
       "sadness            240              240\n",
       "surprise           220              220"
      ]
     },
     "execution_count": 100,
     "metadata": {},
     "output_type": "execute_result"
    }
   ],
   "source": [
    "df2.groupby('sentiment').count()"
   ]
  },
  {
   "cell_type": "markdown",
   "metadata": {},
   "source": [
    "# [Dataset 3] ISEAR databank: \n",
    "This dataset is collected by a large group of psychologist all over the world during the 1990s for the ISEAR project. The data was based on student responds (both psychologists and non-psychologists) on different situations they had experienced for all of 7 major emotions (joy, fear, anger, sadness, disgust, shame, and guilt). The final data set thus contained reports on seven emotions each by close to 3000 respondents in 37 countries on all 5 continents.\n",
    "http://emotion-research.net/toolbox/toolboxdatabase.2006-10-13.2581092615"
   ]
  },
  {
   "cell_type": "code",
   "execution_count": 101,
   "metadata": {
    "collapsed": false
   },
   "outputs": [],
   "source": [
    "#Load dataset 3 into dataframe df3\n",
    "df3=pd.read_csv(\"T:/MSIM/LIS590TXL - Text Mining/Assignment/Final Project/Data Collection/ISEAR/ISEARdata.csv\",names=['raw_sentiment','content'])\n",
    "df3=df3[~df3['raw_sentiment'].isin(['shame','guilt'])]\n",
    "df3_dict={'disgust':'anger-disgust','anger':'anger-disgust',\n",
    "         'joy':'joy','fear':'fear','sadness':'sadness'}\n",
    "df3['sentiment']=df3['raw_sentiment'].map(df3_dict)\n",
    "df3=df3[df3['content'].str.find(\"[\")==-1]"
   ]
  },
  {
   "cell_type": "code",
   "execution_count": 102,
   "metadata": {
    "collapsed": false
   },
   "outputs": [],
   "source": [
    "#content cleaning for df2\n",
    "df3=contentCleaning(df3)"
   ]
  },
  {
   "cell_type": "code",
   "execution_count": 103,
   "metadata": {
    "collapsed": false
   },
   "outputs": [
    {
     "data": {
      "text/html": [
       "<div>\n",
       "<table border=\"1\" class=\"dataframe\">\n",
       "  <thead>\n",
       "    <tr style=\"text-align: right;\">\n",
       "      <th></th>\n",
       "      <th>content</th>\n",
       "      <th>refined_content</th>\n",
       "    </tr>\n",
       "    <tr>\n",
       "      <th>sentiment</th>\n",
       "      <th></th>\n",
       "      <th></th>\n",
       "    </tr>\n",
       "  </thead>\n",
       "  <tbody>\n",
       "    <tr>\n",
       "      <th>anger-disgust</th>\n",
       "      <td>2131</td>\n",
       "      <td>2131</td>\n",
       "    </tr>\n",
       "    <tr>\n",
       "      <th>fear</th>\n",
       "      <td>1071</td>\n",
       "      <td>1071</td>\n",
       "    </tr>\n",
       "    <tr>\n",
       "      <th>joy</th>\n",
       "      <td>1064</td>\n",
       "      <td>1064</td>\n",
       "    </tr>\n",
       "    <tr>\n",
       "      <th>sadness</th>\n",
       "      <td>1038</td>\n",
       "      <td>1038</td>\n",
       "    </tr>\n",
       "  </tbody>\n",
       "</table>\n",
       "</div>"
      ],
      "text/plain": [
       "               content  refined_content\n",
       "sentiment                              \n",
       "anger-disgust     2131             2131\n",
       "fear              1071             1071\n",
       "joy               1064             1064\n",
       "sadness           1038             1038"
      ]
     },
     "execution_count": 103,
     "metadata": {},
     "output_type": "execute_result"
    }
   ],
   "source": [
    "df3.groupby('sentiment').count()"
   ]
  },
  {
   "cell_type": "markdown",
   "metadata": {},
   "source": [
    "# Classification Comparison\n",
    "There are 2 main parts:\n",
    "1. Compare the accuracy among Naive Bayes, Logistic Regression, SVM and Decision Tree classifiers\n",
    "2. Verify if Dimensionality Reduction (SVD) can help in improving the classification results using SVM classifier."
   ]
  },
  {
   "cell_type": "markdown",
   "metadata": {},
   "source": [
    "# 1. Compare the accuracy among Naive Bayes, Logistic Regression, SVM and Decision Tree classifiers"
   ]
  },
  {
   "cell_type": "code",
   "execution_count": 104,
   "metadata": {
    "collapsed": true
   },
   "outputs": [],
   "source": [
    "def fitModel(data,clf_number,modelname):\n",
    "    train=int(len(data)/5*4)\n",
    "    train_set=data['refined_content'].iloc[0:train]\n",
    "    train_label=data['sentiment'].iloc[0:train]\n",
    "    if clf_number==1: #using Naive Bayes classification\n",
    "        text_clf= Pipeline([('vect', CountVectorizer()),\n",
    "                            ('tfidf', TfidfTransformer(norm='l2', use_idf=True, smooth_idf=True, sublinear_tf=True)),\n",
    "                            ('naive_clf', MultinomialNB())\n",
    "                           ])\n",
    "    elif clf_number==2: #using Logistic Regression\n",
    "        text_clf= Pipeline([('vect', CountVectorizer()),\n",
    "                            ('tfidf', TfidfTransformer(norm='l2', use_idf=True, smooth_idf=True, sublinear_tf=True)),\n",
    "                            ('logit_clf', LogisticRegression())\n",
    "                           ])\n",
    "    elif clf_number==3: #using SVM classification\n",
    "        text_clf= Pipeline([('vect', CountVectorizer()),\n",
    "                            ('tfidf', TfidfTransformer(norm='l2', use_idf=True, smooth_idf=True, sublinear_tf=True)),\n",
    "                            ('svm_clf', SGDClassifier(loss='hinge', penalty='l2',alpha=1e-3, n_iter=5, random_state=42))\n",
    "                           ])\n",
    "    elif clf_number==4: #using Decision Tree\n",
    "        text_clf= Pipeline([('vect', CountVectorizer()),\n",
    "                            ('tfidf', TfidfTransformer(norm='l2', use_idf=True, smooth_idf=True, sublinear_tf=True)),\n",
    "                            ('tree_clf', DecisionTreeClassifier(random_state=0))\n",
    "                           ])\n",
    "    else:\n",
    "        print(\"Please enter a valid classification number(clf_num) (1:Naive Bayes,2: Logistic Regression,3:SVM or 4:Decision Tree)\")\n",
    "        return\n",
    "    _ =text_clf.fit(train_set,train_label)\n",
    "    _ =joblib.dump(text_clf, modelname)"
   ]
  },
  {
   "cell_type": "code",
   "execution_count": 105,
   "metadata": {
    "collapsed": false
   },
   "outputs": [],
   "source": [
    "fitModel(df1,1,\"df1_naive_1.pkl\")\n",
    "fitModel(df1,2,\"df1_logit_2.pkl\")\n",
    "fitModel(df1,3,\"df1_svm_3.pkl\")\n",
    "fitModel(df1,4,\"df1_tree_4.pkl\")\n",
    "fitModel(df2,1,\"df2_naive_1.pkl\")\n",
    "fitModel(df2,2,\"df2_logit_2.pkl\")\n",
    "fitModel(df2,3,\"df2_svm_3.pkl\")\n",
    "fitModel(df2,4,\"df2_tree_4.pkl\")\n",
    "fitModel(df3,1,\"df3_naive_1.pkl\")\n",
    "fitModel(df3,2,\"df3_logit_2.pkl\")\n",
    "fitModel(df3,3,\"df3_svm_3.pkl\")\n",
    "fitModel(df3,4,\"df3_tree_4.pkl\")"
   ]
  },
  {
   "cell_type": "code",
   "execution_count": 111,
   "metadata": {
    "collapsed": false
   },
   "outputs": [
    {
     "name": "stdout",
     "output_type": "stream",
     "text": [
      "0.662582469369\n",
      "0.725730442978\n",
      "0.726672950047\n",
      "0.657869934025\n"
     ]
    }
   ],
   "source": [
    "#job_list=[\"df1_naive_1.pkl\",\"df1_logit_2.pkl\",\"df1_svm_3.pkl\",\"df1_tree_4.pkl\"]\n",
    "#job_list=[\"df2_naive_1.pkl\",\"df2_logit_2.pkl\",\"df2_svm_3.pkl\",\"df2_tree_4.pkl\"]\n",
    "job_list=[\"df3_naive_1.pkl\",\"df3_logit_2.pkl\",\"df3_svm_3.pkl\",\"df3_tree_4.pkl\"]\n",
    "data=df3\n",
    "train=int(len(data)/5*4)\n",
    "test_set=data['refined_content'].iloc[train:]\n",
    "test_label=data['sentiment'].iloc[train:]\n",
    "for j in job_list:\n",
    "    clf = joblib.load(j)\n",
    "    predicted = clf.predict(test_set)\n",
    "    print(j)\n",
    "    print(\"Accuracy score= \",clf.score(test_set,test_label))\n",
    "    print(\"Metrics classification report:\\n\",metrics.classification_report(test_label, predicted, target_names=clf.classes_))\n",
    "    print(\"Confusion matrix:\\n\",metrics.confusion_matrix(test_label, predicted))\n",
    "    print(\"-------------------------------\\n\")"
   ]
  },
  {
   "cell_type": "markdown",
   "metadata": {},
   "source": [
    "# 2. Verify if Dimensionality Reduction (SVD) can help in improving the classification results using SVM classifier."
   ]
  },
  {
   "cell_type": "code",
   "execution_count": 127,
   "metadata": {
    "collapsed": false
   },
   "outputs": [],
   "source": [
    "accuracy_list1=svd_clf_accuracyscore(df1)\n",
    "accuracy_list2=svd_clf_accuracyscore(df2)\n",
    "accuracy_list3=svd_clf_accuracyscore(df3)"
   ]
  },
  {
   "cell_type": "code",
   "execution_count": 126,
   "metadata": {
    "collapsed": false
   },
   "outputs": [],
   "source": [
    "def svd_clf_accuracyscore(data):\n",
    "    accuracy_list=[]\n",
    "    train=int(len(data)/5*4)\n",
    "    train_set=data['refined_content'].iloc[0:train]\n",
    "    train_label=data['sentiment'].iloc[0:train]\n",
    "    test_set=data['refined_content'].iloc[train:]\n",
    "    test_label=data['sentiment'].iloc[train:]\n",
    "    for i in range(100,1500,100):\n",
    "        svd_clf = Pipeline([('vect', CountVectorizer()),\n",
    "                         ('tfidf', TfidfTransformer(norm='l2', use_idf=True, smooth_idf=True, sublinear_tf=True)),\n",
    "                         ('svd', TruncatedSVD(n_components=i)),\n",
    "                         ('svm_clf', SGDClassifier(loss='hinge', penalty='l2',alpha=1e-3, n_iter=5, random_state=42))])\n",
    "        _ =svd_clf.fit(train_set,train_label)\n",
    "        predicted = svd_clf.predict(test_set)\n",
    "        accuracy_list.append(np.mean(predicted == test_label) )\n",
    "    return accuracy_list"
   ]
  },
  {
   "cell_type": "code",
   "execution_count": 206,
   "metadata": {
    "collapsed": false
   },
   "outputs": [
    {
     "data": {
      "text/plain": [
       "<matplotlib.legend.Legend at 0x9dc8eda470>"
      ]
     },
     "execution_count": 206,
     "metadata": {},
     "output_type": "execute_result"
    },
    {
     "data": {
      "image/png": "[encoded data removed]",
      "text/plain": [
       "<matplotlib.figure.Figure at 0x9dc8c1dd68>"
      ]
     },
     "metadata": {},
     "output_type": "display_data"
    }
   ],
   "source": [
    "import matplotlib.pyplot as plt\n",
    "%matplotlib inline  \n",
    "\n",
    "x=np.arange(100, 1500, 100)\n",
    "y=accuracy_list\n",
    "plt.plot(x,accuracy_list1,'r', label=\"Celicia's Affect Data\")\n",
    "plt.plot(x, accuracy_list2, 'g', label='SemEval 2007')\n",
    "plt.plot(x,accuracy_list3, 'b',label='ISEAR')\n",
    "plt.ylabel('Accuracy Score')\n",
    "plt.xlabel('n_components')\n",
    "plt.legend(bbox_to_anchor=(1.05, 1), loc=2, borderaxespad=0.)"
   ]
  },
  {
   "cell_type": "markdown",
   "metadata": {},
   "source": [
    "# Apply SVM classifier of ISEAR dataset to detect emotion in Human of NY's stories.\n",
    "There are 5 steps:\n",
    "- Load Human of NY dataset into a list of stories (test_data)\n",
    "- Data cleaning\n",
    "- Load the SVM classifier using fitModel(df3,3,\"df3_svm_3.pkl\")\n",
    "- Predict emotion of test_df\n",
    "- Visualize the predicted data"
   ]
  },
  {
   "cell_type": "markdown",
   "metadata": {},
   "source": [
    "# Human of NY Dataset\n",
    "Load data from file humanofNY.txt (stories are separated by a new line)"
   ]
  },
  {
   "cell_type": "code",
   "execution_count": 79,
   "metadata": {
    "collapsed": false
   },
   "outputs": [],
   "source": [
    "test_data = [line.rstrip('\\n') for line in open(\"T:/MSIM/LIS590TXL - Text Mining/Assignment/Final Project/Data Collection/humanofNY.txt\")]"
   ]
  },
  {
   "cell_type": "code",
   "execution_count": 84,
   "metadata": {
    "collapsed": false
   },
   "outputs": [],
   "source": [
    "test_df = pd.DataFrame({'content': test_data})\n",
    "test_df['sentiment']=\"NA\""
   ]
  },
  {
   "cell_type": "code",
   "execution_count": 112,
   "metadata": {
    "collapsed": false
   },
   "outputs": [],
   "source": [
    "#Clean content for test_df\n",
    "test_df=contentCleaning(test_df)"
   ]
  },
  {
   "cell_type": "code",
   "execution_count": 114,
   "metadata": {
    "collapsed": true
   },
   "outputs": [],
   "source": [
    "#load svm classifier and apply to predict emotion in test_df['refined_content']\n",
    "svm_clf = joblib.load(\"df3_svm_3.pkl\")\n",
    "predicted = svd_clf.predict(test_df['refined_content'])"
   ]
  },
  {
   "cell_type": "code",
   "execution_count": 116,
   "metadata": {
    "collapsed": false
   },
   "outputs": [],
   "source": [
    "test_df['sentiment']=predicted"
   ]
  },
  {
   "cell_type": "code",
   "execution_count": 120,
   "metadata": {
    "collapsed": false
   },
   "outputs": [
    {
     "data": {
      "text/html": [
       "<div>\n",
       "<table border=\"1\" class=\"dataframe\">\n",
       "  <thead>\n",
       "    <tr style=\"text-align: right;\">\n",
       "      <th></th>\n",
       "      <th>content</th>\n",
       "      <th>refined_content</th>\n",
       "    </tr>\n",
       "    <tr>\n",
       "      <th>sentiment</th>\n",
       "      <th></th>\n",
       "      <th></th>\n",
       "    </tr>\n",
       "  </thead>\n",
       "  <tbody>\n",
       "    <tr>\n",
       "      <th>anger-disgust</th>\n",
       "      <td>116</td>\n",
       "      <td>116</td>\n",
       "    </tr>\n",
       "    <tr>\n",
       "      <th>fear</th>\n",
       "      <td>14</td>\n",
       "      <td>14</td>\n",
       "    </tr>\n",
       "    <tr>\n",
       "      <th>joy</th>\n",
       "      <td>47</td>\n",
       "      <td>47</td>\n",
       "    </tr>\n",
       "    <tr>\n",
       "      <th>sadness</th>\n",
       "      <td>15</td>\n",
       "      <td>15</td>\n",
       "    </tr>\n",
       "  </tbody>\n",
       "</table>\n",
       "</div>"
      ],
      "text/plain": [
       "               content  refined_content\n",
       "sentiment                              \n",
       "anger-disgust      116              116\n",
       "fear                14               14\n",
       "joy                 47               47\n",
       "sadness             15               15"
      ]
     },
     "execution_count": 120,
     "metadata": {},
     "output_type": "execute_result"
    }
   ],
   "source": [
    "test_df.groupby('sentiment').count()"
   ]
  },
  {
   "cell_type": "code",
   "execution_count": 124,
   "metadata": {
    "collapsed": false
   },
   "outputs": [
    {
     "data": {
      "text/plain": [
       "<matplotlib.axes._subplots.AxesSubplot at 0x9dbbb68550>"
      ]
     },
     "execution_count": 124,
     "metadata": {},
     "output_type": "execute_result"
    },
    {
     "data": {
      "image/png": "[encoded data removed]",
      "text/plain": [
       "<matplotlib.figure.Figure at 0x9dbbb3ee10>"
      ]
     },
     "metadata": {},
     "output_type": "display_data"
    }
   ],
   "source": [
    "test_df.groupby('sentiment')['content'].count().plot(kind='bar')\n"
   ]
  },
  {
   "cell_type": "code",
   "execution_count": null,
   "metadata": {
    "collapsed": true
   },
   "outputs": [],
   "source": [
    "test_df['storyno']=np.arange(1,len(test_df)+1)"
   ]
  },
  {
   "cell_type": "code",
   "execution_count": 154,
   "metadata": {
    "collapsed": false
   },
   "outputs": [],
   "source": [
    "test_df2=pd.concat([pd.Series(row['storyno'], row['content'].split('.'))              \n",
    "                    for _, row in test_df.iterrows()]).reset_index()\n",
    "test_df2.columns = ['content', 'storyno']\n",
    "test_df2['sentiment']=\"NA\"\n",
    "test_df2=contentCleaning2(test_df2)\n",
    "test_df2=test_df2[~test_df2['refined_content'].isin([\"\",\" \"])]"
   ]
  },
  {
   "cell_type": "code",
   "execution_count": 172,
   "metadata": {
    "collapsed": false
   },
   "outputs": [],
   "source": [
    "predicted = svd_clf.predict(test_df2['refined_content'])"
   ]
  },
  {
   "cell_type": "code",
   "execution_count": 174,
   "metadata": {
    "collapsed": false
   },
   "outputs": [
    {
     "name": "stderr",
     "output_type": "stream",
     "text": [
      "C:\\Users\\Thuong\\Anaconda3\\lib\\site-packages\\ipykernel\\__main__.py:1: SettingWithCopyWarning: \n",
      "A value is trying to be set on a copy of a slice from a DataFrame.\n",
      "Try using .loc[row_indexer,col_indexer] = value instead\n",
      "\n",
      "See the caveats in the documentation: http://pandas.pydata.org/pandas-docs/stable/indexing.html#indexing-view-versus-copy\n",
      "  if __name__ == '__main__':\n"
     ]
    }
   ],
   "source": [
    "test_df2['sentiment']=predicted"
   ]
  },
  {
   "cell_type": "code",
   "execution_count": 192,
   "metadata": {
    "collapsed": false
   },
   "outputs": [
    {
     "data": {
      "text/html": [
       "<div>\n",
       "<table border=\"1\" class=\"dataframe\">\n",
       "  <thead>\n",
       "    <tr style=\"text-align: right;\">\n",
       "      <th></th>\n",
       "      <th></th>\n",
       "      <th>content</th>\n",
       "      <th>refined_content</th>\n",
       "    </tr>\n",
       "    <tr>\n",
       "      <th>storyno</th>\n",
       "      <th>sentiment</th>\n",
       "      <th></th>\n",
       "      <th></th>\n",
       "    </tr>\n",
       "  </thead>\n",
       "  <tbody>\n",
       "    <tr>\n",
       "      <th rowspan=\"2\" valign=\"top\">1</th>\n",
       "      <th>anger-disgust</th>\n",
       "      <td>7</td>\n",
       "      <td>7</td>\n",
       "    </tr>\n",
       "    <tr>\n",
       "      <th>joy</th>\n",
       "      <td>2</td>\n",
       "      <td>2</td>\n",
       "    </tr>\n",
       "    <tr>\n",
       "      <th rowspan=\"2\" valign=\"top\">2</th>\n",
       "      <th>anger-disgust</th>\n",
       "      <td>4</td>\n",
       "      <td>4</td>\n",
       "    </tr>\n",
       "    <tr>\n",
       "      <th>joy</th>\n",
       "      <td>1</td>\n",
       "      <td>1</td>\n",
       "    </tr>\n",
       "    <tr>\n",
       "      <th rowspan=\"2\" valign=\"top\">3</th>\n",
       "      <th>anger-disgust</th>\n",
       "      <td>5</td>\n",
       "      <td>5</td>\n",
       "    </tr>\n",
       "    <tr>\n",
       "      <th>joy</th>\n",
       "      <td>2</td>\n",
       "      <td>2</td>\n",
       "    </tr>\n",
       "    <tr>\n",
       "      <th rowspan=\"3\" valign=\"top\">4</th>\n",
       "      <th>anger-disgust</th>\n",
       "      <td>21</td>\n",
       "      <td>21</td>\n",
       "    </tr>\n",
       "    <tr>\n",
       "      <th>fear</th>\n",
       "      <td>3</td>\n",
       "      <td>3</td>\n",
       "    </tr>\n",
       "    <tr>\n",
       "      <th>joy</th>\n",
       "      <td>6</td>\n",
       "      <td>6</td>\n",
       "    </tr>\n",
       "    <tr>\n",
       "      <th rowspan=\"4\" valign=\"top\">5</th>\n",
       "      <th>anger-disgust</th>\n",
       "      <td>6</td>\n",
       "      <td>6</td>\n",
       "    </tr>\n",
       "    <tr>\n",
       "      <th>fear</th>\n",
       "      <td>4</td>\n",
       "      <td>4</td>\n",
       "    </tr>\n",
       "    <tr>\n",
       "      <th>joy</th>\n",
       "      <td>3</td>\n",
       "      <td>3</td>\n",
       "    </tr>\n",
       "    <tr>\n",
       "      <th>sadness</th>\n",
       "      <td>1</td>\n",
       "      <td>1</td>\n",
       "    </tr>\n",
       "    <tr>\n",
       "      <th rowspan=\"4\" valign=\"top\">6</th>\n",
       "      <th>anger-disgust</th>\n",
       "      <td>3</td>\n",
       "      <td>3</td>\n",
       "    </tr>\n",
       "    <tr>\n",
       "      <th>fear</th>\n",
       "      <td>1</td>\n",
       "      <td>1</td>\n",
       "    </tr>\n",
       "    <tr>\n",
       "      <th>joy</th>\n",
       "      <td>9</td>\n",
       "      <td>9</td>\n",
       "    </tr>\n",
       "    <tr>\n",
       "      <th>sadness</th>\n",
       "      <td>1</td>\n",
       "      <td>1</td>\n",
       "    </tr>\n",
       "    <tr>\n",
       "      <th rowspan=\"3\" valign=\"top\">7</th>\n",
       "      <th>anger-disgust</th>\n",
       "      <td>12</td>\n",
       "      <td>12</td>\n",
       "    </tr>\n",
       "    <tr>\n",
       "      <th>fear</th>\n",
       "      <td>1</td>\n",
       "      <td>1</td>\n",
       "    </tr>\n",
       "    <tr>\n",
       "      <th>joy</th>\n",
       "      <td>2</td>\n",
       "      <td>2</td>\n",
       "    </tr>\n",
       "    <tr>\n",
       "      <th rowspan=\"3\" valign=\"top\">8</th>\n",
       "      <th>anger-disgust</th>\n",
       "      <td>10</td>\n",
       "      <td>10</td>\n",
       "    </tr>\n",
       "    <tr>\n",
       "      <th>joy</th>\n",
       "      <td>3</td>\n",
       "      <td>3</td>\n",
       "    </tr>\n",
       "    <tr>\n",
       "      <th>sadness</th>\n",
       "      <td>1</td>\n",
       "      <td>1</td>\n",
       "    </tr>\n",
       "    <tr>\n",
       "      <th rowspan=\"3\" valign=\"top\">9</th>\n",
       "      <th>anger-disgust</th>\n",
       "      <td>5</td>\n",
       "      <td>5</td>\n",
       "    </tr>\n",
       "    <tr>\n",
       "      <th>joy</th>\n",
       "      <td>2</td>\n",
       "      <td>2</td>\n",
       "    </tr>\n",
       "    <tr>\n",
       "      <th>sadness</th>\n",
       "      <td>1</td>\n",
       "      <td>1</td>\n",
       "    </tr>\n",
       "    <tr>\n",
       "      <th rowspan=\"2\" valign=\"top\">10</th>\n",
       "      <th>anger-disgust</th>\n",
       "      <td>12</td>\n",
       "      <td>12</td>\n",
       "    </tr>\n",
       "    <tr>\n",
       "      <th>joy</th>\n",
       "      <td>3</td>\n",
       "      <td>3</td>\n",
       "    </tr>\n",
       "    <tr>\n",
       "      <th rowspan=\"2\" valign=\"top\">11</th>\n",
       "      <th>anger-disgust</th>\n",
       "      <td>8</td>\n",
       "      <td>8</td>\n",
       "    </tr>\n",
       "    <tr>\n",
       "      <th>joy</th>\n",
       "      <td>3</td>\n",
       "      <td>3</td>\n",
       "    </tr>\n",
       "    <tr>\n",
       "      <th>...</th>\n",
       "      <th>...</th>\n",
       "      <td>...</td>\n",
       "      <td>...</td>\n",
       "    </tr>\n",
       "    <tr>\n",
       "      <th rowspan=\"2\" valign=\"top\">180</th>\n",
       "      <th>joy</th>\n",
       "      <td>4</td>\n",
       "      <td>4</td>\n",
       "    </tr>\n",
       "    <tr>\n",
       "      <th>sadness</th>\n",
       "      <td>1</td>\n",
       "      <td>1</td>\n",
       "    </tr>\n",
       "    <tr>\n",
       "      <th rowspan=\"4\" valign=\"top\">181</th>\n",
       "      <th>anger-disgust</th>\n",
       "      <td>15</td>\n",
       "      <td>15</td>\n",
       "    </tr>\n",
       "    <tr>\n",
       "      <th>fear</th>\n",
       "      <td>1</td>\n",
       "      <td>1</td>\n",
       "    </tr>\n",
       "    <tr>\n",
       "      <th>joy</th>\n",
       "      <td>6</td>\n",
       "      <td>6</td>\n",
       "    </tr>\n",
       "    <tr>\n",
       "      <th>sadness</th>\n",
       "      <td>2</td>\n",
       "      <td>2</td>\n",
       "    </tr>\n",
       "    <tr>\n",
       "      <th>182</th>\n",
       "      <th>anger-disgust</th>\n",
       "      <td>2</td>\n",
       "      <td>2</td>\n",
       "    </tr>\n",
       "    <tr>\n",
       "      <th rowspan=\"2\" valign=\"top\">183</th>\n",
       "      <th>anger-disgust</th>\n",
       "      <td>10</td>\n",
       "      <td>10</td>\n",
       "    </tr>\n",
       "    <tr>\n",
       "      <th>joy</th>\n",
       "      <td>4</td>\n",
       "      <td>4</td>\n",
       "    </tr>\n",
       "    <tr>\n",
       "      <th rowspan=\"3\" valign=\"top\">184</th>\n",
       "      <th>anger-disgust</th>\n",
       "      <td>9</td>\n",
       "      <td>9</td>\n",
       "    </tr>\n",
       "    <tr>\n",
       "      <th>fear</th>\n",
       "      <td>1</td>\n",
       "      <td>1</td>\n",
       "    </tr>\n",
       "    <tr>\n",
       "      <th>joy</th>\n",
       "      <td>8</td>\n",
       "      <td>8</td>\n",
       "    </tr>\n",
       "    <tr>\n",
       "      <th>185</th>\n",
       "      <th>anger-disgust</th>\n",
       "      <td>2</td>\n",
       "      <td>2</td>\n",
       "    </tr>\n",
       "    <tr>\n",
       "      <th rowspan=\"3\" valign=\"top\">186</th>\n",
       "      <th>anger-disgust</th>\n",
       "      <td>13</td>\n",
       "      <td>13</td>\n",
       "    </tr>\n",
       "    <tr>\n",
       "      <th>fear</th>\n",
       "      <td>2</td>\n",
       "      <td>2</td>\n",
       "    </tr>\n",
       "    <tr>\n",
       "      <th>joy</th>\n",
       "      <td>6</td>\n",
       "      <td>6</td>\n",
       "    </tr>\n",
       "    <tr>\n",
       "      <th rowspan=\"4\" valign=\"top\">187</th>\n",
       "      <th>anger-disgust</th>\n",
       "      <td>5</td>\n",
       "      <td>5</td>\n",
       "    </tr>\n",
       "    <tr>\n",
       "      <th>fear</th>\n",
       "      <td>2</td>\n",
       "      <td>2</td>\n",
       "    </tr>\n",
       "    <tr>\n",
       "      <th>joy</th>\n",
       "      <td>1</td>\n",
       "      <td>1</td>\n",
       "    </tr>\n",
       "    <tr>\n",
       "      <th>sadness</th>\n",
       "      <td>1</td>\n",
       "      <td>1</td>\n",
       "    </tr>\n",
       "    <tr>\n",
       "      <th>188</th>\n",
       "      <th>anger-disgust</th>\n",
       "      <td>2</td>\n",
       "      <td>2</td>\n",
       "    </tr>\n",
       "    <tr>\n",
       "      <th rowspan=\"2\" valign=\"top\">189</th>\n",
       "      <th>anger-disgust</th>\n",
       "      <td>8</td>\n",
       "      <td>8</td>\n",
       "    </tr>\n",
       "    <tr>\n",
       "      <th>joy</th>\n",
       "      <td>9</td>\n",
       "      <td>9</td>\n",
       "    </tr>\n",
       "    <tr>\n",
       "      <th rowspan=\"3\" valign=\"top\">190</th>\n",
       "      <th>anger-disgust</th>\n",
       "      <td>10</td>\n",
       "      <td>10</td>\n",
       "    </tr>\n",
       "    <tr>\n",
       "      <th>fear</th>\n",
       "      <td>1</td>\n",
       "      <td>1</td>\n",
       "    </tr>\n",
       "    <tr>\n",
       "      <th>joy</th>\n",
       "      <td>1</td>\n",
       "      <td>1</td>\n",
       "    </tr>\n",
       "    <tr>\n",
       "      <th rowspan=\"3\" valign=\"top\">191</th>\n",
       "      <th>anger-disgust</th>\n",
       "      <td>9</td>\n",
       "      <td>9</td>\n",
       "    </tr>\n",
       "    <tr>\n",
       "      <th>fear</th>\n",
       "      <td>5</td>\n",
       "      <td>5</td>\n",
       "    </tr>\n",
       "    <tr>\n",
       "      <th>joy</th>\n",
       "      <td>1</td>\n",
       "      <td>1</td>\n",
       "    </tr>\n",
       "    <tr>\n",
       "      <th>192</th>\n",
       "      <th>anger-disgust</th>\n",
       "      <td>1</td>\n",
       "      <td>1</td>\n",
       "    </tr>\n",
       "  </tbody>\n",
       "</table>\n",
       "<p>497 rows × 2 columns</p>\n",
       "</div>"
      ],
      "text/plain": [
       "                       content  refined_content\n",
       "storyno sentiment                              \n",
       "1       anger-disgust        7                7\n",
       "        joy                  2                2\n",
       "2       anger-disgust        4                4\n",
       "        joy                  1                1\n",
       "3       anger-disgust        5                5\n",
       "        joy                  2                2\n",
       "4       anger-disgust       21               21\n",
       "        fear                 3                3\n",
       "        joy                  6                6\n",
       "5       anger-disgust        6                6\n",
       "        fear                 4                4\n",
       "        joy                  3                3\n",
       "        sadness              1                1\n",
       "6       anger-disgust        3                3\n",
       "        fear                 1                1\n",
       "        joy                  9                9\n",
       "        sadness              1                1\n",
       "7       anger-disgust       12               12\n",
       "        fear                 1                1\n",
       "        joy                  2                2\n",
       "8       anger-disgust       10               10\n",
       "        joy                  3                3\n",
       "        sadness              1                1\n",
       "9       anger-disgust        5                5\n",
       "        joy                  2                2\n",
       "        sadness              1                1\n",
       "10      anger-disgust       12               12\n",
       "        joy                  3                3\n",
       "11      anger-disgust        8                8\n",
       "        joy                  3                3\n",
       "...                        ...              ...\n",
       "180     joy                  4                4\n",
       "        sadness              1                1\n",
       "181     anger-disgust       15               15\n",
       "        fear                 1                1\n",
       "        joy                  6                6\n",
       "        sadness              2                2\n",
       "182     anger-disgust        2                2\n",
       "183     anger-disgust       10               10\n",
       "        joy                  4                4\n",
       "184     anger-disgust        9                9\n",
       "        fear                 1                1\n",
       "        joy                  8                8\n",
       "185     anger-disgust        2                2\n",
       "186     anger-disgust       13               13\n",
       "        fear                 2                2\n",
       "        joy                  6                6\n",
       "187     anger-disgust        5                5\n",
       "        fear                 2                2\n",
       "        joy                  1                1\n",
       "        sadness              1                1\n",
       "188     anger-disgust        2                2\n",
       "189     anger-disgust        8                8\n",
       "        joy                  9                9\n",
       "190     anger-disgust       10               10\n",
       "        fear                 1                1\n",
       "        joy                  1                1\n",
       "191     anger-disgust        9                9\n",
       "        fear                 5                5\n",
       "        joy                  1                1\n",
       "192     anger-disgust        1                1\n",
       "\n",
       "[497 rows x 2 columns]"
      ]
     },
     "execution_count": 192,
     "metadata": {},
     "output_type": "execute_result"
    }
   ],
   "source": [
    "test_df2.groupby(['storyno','sentiment']).count()"
   ]
  },
  {
   "cell_type": "code",
   "execution_count": 201,
   "metadata": {
    "collapsed": false
   },
   "outputs": [
    {
     "data": {
      "text/plain": [
       "<matplotlib.axes._subplots.AxesSubplot at 0x9dc8c2a550>"
      ]
     },
     "execution_count": 201,
     "metadata": {},
     "output_type": "execute_result"
    },
    {
     "data": {
      "image/png": "[encoded data removed]",
      "text/plain": [
       "<matplotlib.figure.Figure at 0x9dc8ba3b38>"
      ]
     },
     "metadata": {},
     "output_type": "display_data"
    }
   ],
   "source": [
    "test_df2[['storyno','sentiment']].drop_duplicates().groupby('sentiment').count().plot(kind='bar')"
   ]
  }
 ],
 "metadata": {
  "anaconda-cloud": {},
  "kernelspec": {
   "display_name": "Python [conda root]",
   "language": "python",
   "name": "conda-root-py"
  },
  "language_info": {
   "codemirror_mode": {
    "name": "ipython",
    "version": 3
   },
   "file_extension": ".py",
   "mimetype": "text/x-python",
   "name": "python",
   "nbconvert_exporter": "python",
   "pygments_lexer": "ipython3",
   "version": "3.5.2"
  }
 },
 "nbformat": 4,
 "nbformat_minor": 1
}
