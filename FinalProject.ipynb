{
 "cells": [
  {
   "cell_type": "code",
   "execution_count": 2,
   "metadata": {
    "collapsed": false
   },
   "outputs": [],
   "source": [
    "from sklearn.feature_extraction.text import CountVectorizer\n",
    "from sklearn.feature_extraction.text import TfidfTransformer\n",
    "from sklearn.decomposition import TruncatedSVD\n",
    "from sklearn.pipeline import Pipeline\n",
    "from sklearn.naive_bayes import MultinomialNB\n",
    "from sklearn.linear_model import SGDClassifier\n",
    "from sklearn.linear_model import LogisticRegression\n",
    "from sklearn.tree import DecisionTreeClassifier\n",
    "from sklearn.externals import joblib\n",
    "from sklearn import metrics\n",
    "from nltk.corpus import stopwords\n",
    "from nltk.stem import WordNetLemmatizer\n",
    "\n",
    "import pandas as pd\n",
    "import numpy as np\n",
    "import re"
   ]
  },
  {
   "cell_type": "code",
   "execution_count": 3,
   "metadata": {
    "collapsed": false
   },
   "outputs": [],
   "source": [
    "stoplist = set(stopwords.words('english'))\n",
    "lem=WordNetLemmatizer()"
   ]
  },
  {
   "cell_type": "code",
   "execution_count": 4,
   "metadata": {
    "collapsed": false
   },
   "outputs": [],
   "source": [
    "#Function for data cleaning for all datasets\n",
    "def contentCleaning(df):\n",
    "    df=df[['content','sentiment']].drop_duplicates()\n",
    "    filtered_content=df['content']\n",
    "    filtered_content=[row.lower() for row in filtered_content]\n",
    "    for i in range(0,len(filtered_content)):\n",
    "        temp=\"\"\n",
    "        for w in filtered_content[i].split():           \n",
    "            while (len(w)>0 and (not re.match(\"[a-z]\",w[len(w)-1]))):\n",
    "                w=w.replace(w[len(w)-1],\"\")\n",
    "            while (len(w)>0 and (not re.match(\"[a-z]\",w[0]))):\n",
    "                w=w.replace(w[0],\"\")\n",
    "            if (w.find(\"http\")!=-1):\n",
    "                w=\"\"\n",
    "            if w not in stoplist:\n",
    "                w=lem.lemmatize(w)\n",
    "                temp=temp+\" \"+w\n",
    "            filtered_content[i]=temp\n",
    "    df['refined_content']=filtered_content\n",
    "    return df"
   ]
  },
  {
   "cell_type": "code",
   "execution_count": 5,
   "metadata": {
    "collapsed": true
   },
   "outputs": [],
   "source": [
    "def contentCleaning2(df):\n",
    "    filtered_content=df['content']\n",
    "    filtered_content=[row.lower() for row in filtered_content]\n",
    "    for i in range(0,len(filtered_content)):\n",
    "        temp=\"\"\n",
    "        for w in filtered_content[i].split():           \n",
    "            while (len(w)>0 and (not re.match(\"[a-z]\",w[len(w)-1]))):\n",
    "                w=w.replace(w[len(w)-1],\"\")\n",
    "            while (len(w)>0 and (not re.match(\"[a-z]\",w[0]))):\n",
    "                w=w.replace(w[0],\"\")\n",
    "            if (w.find(\"http\")!=-1):\n",
    "                w=\"\"\n",
    "            if w not in stoplist:\n",
    "                w=lem.lemmatize(w)\n",
    "                temp=temp+\" \"+w\n",
    "            filtered_content[i]=temp\n",
    "    df['refined_content']=filtered_content\n",
    "    return df"
   ]
  },
  {
   "cell_type": "markdown",
   "metadata": {},
   "source": [
    "# [Dataset 1] The Affect data by Cecilia Ovesdotter Alm:\n",
    "http://people.rc.rit.edu/~coagla/affectdata/index.html\n",
    "\n",
    "The dataset was collected by Cecilia Ovesdotter Alm for her dissertation research based on the Fairy Tale corpus of approximately 185 children stories by Grimms’, Andersen’s and B.Potter’s.\n",
    "The documents in dataset were annotated with 5 basic emotions Angry-Disgusted (code: 2), Fearful (code: 3), Happy (code: 4), Sad (code: 6), and Surprised (code: 7)\n",
    "The dataset consists of 3 files: \n",
    "- GrimmsAll4labsagree.txt \n",
    "- hcand460All4labsagree.txt  \n",
    "- Potter167All4labsagree.txt"
   ]
  },
  {
   "cell_type": "code",
   "execution_count": 6,
   "metadata": {
    "collapsed": true
   },
   "outputs": [],
   "source": [
    "#Load dataset 1 into dataframe df1\n",
    "path1=\"T:/MSIM/LIS590TXL - Text Mining/Assignment/Final Project/Data Collection/CeciliaAffectedData/\"\n",
    "file_list={\"GrimmsAll4labsagree.txt\",\"hcand460All4labsagree.txt\",\"Potter167All4labsagree.txt\"}\n",
    "df1 = pd.DataFrame()\n",
    "for i in file_list:\n",
    "    lines = [line.rstrip('\\n') for line in open(path1+i)]\n",
    "    temp_df = pd.DataFrame([l.split(\"@\") for l in lines],columns=['docno','sentiment_code','content'])\n",
    "    df1=pd.concat([df1,temp_df],ignore_index=True)"
   ]
  },
  {
   "cell_type": "code",
   "execution_count": 7,
   "metadata": {
    "collapsed": false
   },
   "outputs": [],
   "source": [
    "#Data cleaning, specifically for df1\n",
    "#remove the records do not include sentiment code\n",
    "df1=df1[pd.isnull(df1['sentiment_code'])==False]\n",
    "#map sentiment code with sentiment.\n",
    "df1_dict = {'2':\"anger-disgust\", '3': \"fear\", '4': \"joy\", '6': \"sadness\", '7': \"surprise\" }\n",
    "df1['sentiment']=df1['sentiment_code'].map(df1_dict)"
   ]
  },
  {
   "cell_type": "code",
   "execution_count": 8,
   "metadata": {
    "collapsed": false
   },
   "outputs": [],
   "source": [
    "#content cleaning for df1\n",
    "df1=contentCleaning(df1)"
   ]
  },
  {
   "cell_type": "code",
   "execution_count": 9,
   "metadata": {
    "collapsed": false
   },
   "outputs": [
    {
     "data": {
      "text/html": [
       "<div>\n",
       "<table border=\"1\" class=\"dataframe\">\n",
       "  <thead>\n",
       "    <tr style=\"text-align: right;\">\n",
       "      <th></th>\n",
       "      <th>content</th>\n",
       "      <th>refined_content</th>\n",
       "    </tr>\n",
       "    <tr>\n",
       "      <th>sentiment</th>\n",
       "      <th></th>\n",
       "      <th></th>\n",
       "    </tr>\n",
       "  </thead>\n",
       "  <tbody>\n",
       "    <tr>\n",
       "      <th>anger-disgust</th>\n",
       "      <td>217</td>\n",
       "      <td>217</td>\n",
       "    </tr>\n",
       "    <tr>\n",
       "      <th>fear</th>\n",
       "      <td>166</td>\n",
       "      <td>166</td>\n",
       "    </tr>\n",
       "    <tr>\n",
       "      <th>joy</th>\n",
       "      <td>444</td>\n",
       "      <td>444</td>\n",
       "    </tr>\n",
       "    <tr>\n",
       "      <th>sadness</th>\n",
       "      <td>264</td>\n",
       "      <td>264</td>\n",
       "    </tr>\n",
       "    <tr>\n",
       "      <th>surprise</th>\n",
       "      <td>114</td>\n",
       "      <td>114</td>\n",
       "    </tr>\n",
       "  </tbody>\n",
       "</table>\n",
       "</div>"
      ],
      "text/plain": [
       "               content  refined_content\n",
       "sentiment                              \n",
       "anger-disgust      217              217\n",
       "fear               166              166\n",
       "joy                444              444\n",
       "sadness            264              264\n",
       "surprise           114              114"
      ]
     },
     "execution_count": 9,
     "metadata": {},
     "output_type": "execute_result"
    }
   ],
   "source": [
    "df1.groupby('sentiment').count()"
   ]
  },
  {
   "cell_type": "markdown",
   "metadata": {},
   "source": [
    "# [Dataset 2] SemEval 2007:\n",
    "This is the “Affective Text” from the SemEval 2007 task. It contains 1250 news headlines from newspaper and news websites such as such as Google news, CNN; and is labeled into six basic emotion classes - anger, disgust, fear, joy, sadness and surprise. Each sentence (specified by an id from 1 to 1250) can have multiple tags corresponding to multiple emotions the sentence can express with scoring for intensity from 0 to 100."
   ]
  },
  {
   "cell_type": "code",
   "execution_count": 10,
   "metadata": {
    "collapsed": false
   },
   "outputs": [],
   "source": [
    "#Load dataset 2 into dataframe df2\n",
    "#Step 1: document id - content\n",
    "from lxml import etree\n",
    "path2=\"T:/MSIM/LIS590TXL - Text Mining/Assignment/Final Project/Data Collection/SemEval/AffectiveText/\"\n",
    "file_list={\"affectivetext_test.xml\",\"affectivetext_trial.xml\"}\n",
    "df2_data=pd.DataFrame()\n",
    "for filename in file_list:\n",
    "    parser = etree.XMLParser(recover=True)\n",
    "    tree = etree.parse(path2+filename,parser=parser)\n",
    "    root = tree.getroot()\n",
    "    for instance in root.findall('instance'):\n",
    "        temp_df=pd.DataFrame([[int(instance.get('id')),instance.text]],columns=['docid','content'])\n",
    "        df2_data=pd.concat([df2_data,temp_df],ignore_index=True)"
   ]
  },
  {
   "cell_type": "code",
   "execution_count": 11,
   "metadata": {
    "collapsed": false
   },
   "outputs": [],
   "source": [
    "#Step 2: Load document id - sentiment\n",
    "file_list={\"affectivetext_test.emotions.gold\",\"affectivetext_trial.emotions.gold\"}\n",
    "df2_label=pd.DataFrame()\n",
    "for filename in file_list:\n",
    "    temp_df=pd.read_table(path2+filename, sep=\" \", names =['docid','anger','disgust','fear','joy','sadness','surprise'])\n",
    "    df2_label=pd.concat([df2_label,temp_df],ignore_index=True)\n",
    "df2_label['anger-disgust']=df2_label['anger']+df2_label['disgust']\n",
    "df2_label.drop(['anger','disgust'],inplace=True,axis=1)\n",
    "df2_label=pd.melt(df2_label, id_vars=['docid'], value_vars=['fear','joy','sadness','surprise','anger-disgust'],var_name='sentiment')"
   ]
  },
  {
   "cell_type": "code",
   "execution_count": 12,
   "metadata": {
    "collapsed": false
   },
   "outputs": [],
   "source": [
    "#assign the sentiment to doc based on the largest sentiment value\n",
    "#df2_label=df2_label[df2_label['value']>20]\n",
    "df2_label['max_value'] = df2_label.groupby(['docid'])['value'].transform(max)\n",
    "df2_label=df2_label[df2_label['value']==df2_label['max_value']]"
   ]
  },
  {
   "cell_type": "code",
   "execution_count": 13,
   "metadata": {
    "collapsed": false
   },
   "outputs": [],
   "source": [
    "#Step 3 - merge docid-content (df2_data) and docid-sentiment (df2_label) into 1 dataframe df2\n",
    "df2=pd.merge(df2_data, df2_label[['docid','sentiment']], on='docid')"
   ]
  },
  {
   "cell_type": "code",
   "execution_count": 14,
   "metadata": {
    "collapsed": true
   },
   "outputs": [],
   "source": [
    "#content cleaning for df2\n",
    "df2=contentCleaning(df2)"
   ]
  },
  {
   "cell_type": "code",
   "execution_count": 15,
   "metadata": {
    "collapsed": false
   },
   "outputs": [
    {
     "data": {
      "text/html": [
       "<div>\n",
       "<table border=\"1\" class=\"dataframe\">\n",
       "  <thead>\n",
       "    <tr style=\"text-align: right;\">\n",
       "      <th></th>\n",
       "      <th>content</th>\n",
       "      <th>refined_content</th>\n",
       "    </tr>\n",
       "    <tr>\n",
       "      <th>sentiment</th>\n",
       "      <th></th>\n",
       "      <th></th>\n",
       "    </tr>\n",
       "  </thead>\n",
       "  <tbody>\n",
       "    <tr>\n",
       "      <th>anger-disgust</th>\n",
       "      <td>211</td>\n",
       "      <td>211</td>\n",
       "    </tr>\n",
       "    <tr>\n",
       "      <th>fear</th>\n",
       "      <td>166</td>\n",
       "      <td>166</td>\n",
       "    </tr>\n",
       "    <tr>\n",
       "      <th>joy</th>\n",
       "      <td>438</td>\n",
       "      <td>438</td>\n",
       "    </tr>\n",
       "    <tr>\n",
       "      <th>sadness</th>\n",
       "      <td>240</td>\n",
       "      <td>240</td>\n",
       "    </tr>\n",
       "    <tr>\n",
       "      <th>surprise</th>\n",
       "      <td>220</td>\n",
       "      <td>220</td>\n",
       "    </tr>\n",
       "  </tbody>\n",
       "</table>\n",
       "</div>"
      ],
      "text/plain": [
       "               content  refined_content\n",
       "sentiment                              \n",
       "anger-disgust      211              211\n",
       "fear               166              166\n",
       "joy                438              438\n",
       "sadness            240              240\n",
       "surprise           220              220"
      ]
     },
     "execution_count": 15,
     "metadata": {},
     "output_type": "execute_result"
    }
   ],
   "source": [
    "df2.groupby('sentiment').count()"
   ]
  },
  {
   "cell_type": "markdown",
   "metadata": {},
   "source": [
    "# [Dataset 3] ISEAR databank: \n",
    "This dataset is collected by a large group of psychologist all over the world during the 1990s for the ISEAR project. The data was based on student responds (both psychologists and non-psychologists) on different situations they had experienced for all of 7 major emotions (joy, fear, anger, sadness, disgust, shame, and guilt). The final data set thus contained reports on seven emotions each by close to 3000 respondents in 37 countries on all 5 continents.\n",
    "http://emotion-research.net/toolbox/toolboxdatabase.2006-10-13.2581092615"
   ]
  },
  {
   "cell_type": "code",
   "execution_count": 16,
   "metadata": {
    "collapsed": false
   },
   "outputs": [],
   "source": [
    "#Load dataset 3 into dataframe df3\n",
    "df3=pd.read_csv(\"T:/MSIM/LIS590TXL - Text Mining/Assignment/Final Project/Data Collection/ISEAR/ISEARdata.csv\",names=['raw_sentiment','content'])\n",
    "df3=df3[~df3['raw_sentiment'].isin(['shame','guilt'])]\n",
    "df3_dict={'disgust':'anger-disgust','anger':'anger-disgust',\n",
    "         'joy':'joy','fear':'fear','sadness':'sadness'}\n",
    "df3['sentiment']=df3['raw_sentiment'].map(df3_dict)\n",
    "df3=df3[df3['content'].str.find(\"[\")==-1]"
   ]
  },
  {
   "cell_type": "code",
   "execution_count": 17,
   "metadata": {
    "collapsed": false
   },
   "outputs": [],
   "source": [
    "#content cleaning for df2\n",
    "df3=contentCleaning(df3)"
   ]
  },
  {
   "cell_type": "code",
   "execution_count": 18,
   "metadata": {
    "collapsed": false
   },
   "outputs": [
    {
     "data": {
      "text/html": [
       "<div>\n",
       "<table border=\"1\" class=\"dataframe\">\n",
       "  <thead>\n",
       "    <tr style=\"text-align: right;\">\n",
       "      <th></th>\n",
       "      <th>content</th>\n",
       "      <th>refined_content</th>\n",
       "    </tr>\n",
       "    <tr>\n",
       "      <th>sentiment</th>\n",
       "      <th></th>\n",
       "      <th></th>\n",
       "    </tr>\n",
       "  </thead>\n",
       "  <tbody>\n",
       "    <tr>\n",
       "      <th>anger-disgust</th>\n",
       "      <td>2131</td>\n",
       "      <td>2131</td>\n",
       "    </tr>\n",
       "    <tr>\n",
       "      <th>fear</th>\n",
       "      <td>1071</td>\n",
       "      <td>1071</td>\n",
       "    </tr>\n",
       "    <tr>\n",
       "      <th>joy</th>\n",
       "      <td>1064</td>\n",
       "      <td>1064</td>\n",
       "    </tr>\n",
       "    <tr>\n",
       "      <th>sadness</th>\n",
       "      <td>1038</td>\n",
       "      <td>1038</td>\n",
       "    </tr>\n",
       "  </tbody>\n",
       "</table>\n",
       "</div>"
      ],
      "text/plain": [
       "               content  refined_content\n",
       "sentiment                              \n",
       "anger-disgust     2131             2131\n",
       "fear              1071             1071\n",
       "joy               1064             1064\n",
       "sadness           1038             1038"
      ]
     },
     "execution_count": 18,
     "metadata": {},
     "output_type": "execute_result"
    }
   ],
   "source": [
    "df3.groupby('sentiment').count()"
   ]
  },
  {
   "cell_type": "markdown",
   "metadata": {},
   "source": [
    "# Classification Comparison\n",
    "There are 2 main parts:\n",
    "1. Compare the accuracy among Naive Bayes, Logistic Regression, SVM and Decision Tree classifiers\n",
    "2. Verify if Dimensionality Reduction (SVD) can help in improving the classification results using SVM classifier."
   ]
  },
  {
   "cell_type": "markdown",
   "metadata": {},
   "source": [
    "# 1. Compare the accuracy among Naive Bayes, Logistic Regression, SVM and Decision Tree classifiers"
   ]
  },
  {
   "cell_type": "code",
   "execution_count": 19,
   "metadata": {
    "collapsed": true
   },
   "outputs": [],
   "source": [
    "def fitModel(data,clf_number,modelname):\n",
    "    train=int(len(data)/5*4)\n",
    "    train_set=data['refined_content'].iloc[0:train]\n",
    "    train_label=data['sentiment'].iloc[0:train]\n",
    "    if clf_number==1: #using Naive Bayes classification\n",
    "        text_clf= Pipeline([('vect', CountVectorizer()),\n",
    "                            ('tfidf', TfidfTransformer(norm='l2', use_idf=True, smooth_idf=True, sublinear_tf=True)),\n",
    "                            ('naive_clf', MultinomialNB())\n",
    "                           ])\n",
    "    elif clf_number==2: #using Logistic Regression\n",
    "        text_clf= Pipeline([('vect', CountVectorizer()),\n",
    "                            ('tfidf', TfidfTransformer(norm='l2', use_idf=True, smooth_idf=True, sublinear_tf=True)),\n",
    "                            ('logit_clf', LogisticRegression())\n",
    "                           ])\n",
    "    elif clf_number==3: #using SVM classification\n",
    "        text_clf= Pipeline([('vect', CountVectorizer()),\n",
    "                            ('tfidf', TfidfTransformer(norm='l2', use_idf=True, smooth_idf=True, sublinear_tf=True)),\n",
    "                            ('svm_clf', SGDClassifier(loss='hinge', penalty='l2',alpha=1e-3, n_iter=5, random_state=42))\n",
    "                           ])\n",
    "    elif clf_number==4: #using Decision Tree\n",
    "        text_clf= Pipeline([('vect', CountVectorizer()),\n",
    "                            ('tfidf', TfidfTransformer(norm='l2', use_idf=True, smooth_idf=True, sublinear_tf=True)),\n",
    "                            ('tree_clf', DecisionTreeClassifier(random_state=0))\n",
    "                           ])\n",
    "    else:\n",
    "        print(\"Please enter a valid classification number(clf_num) (1:Naive Bayes,2: Logistic Regression,3:SVM or 4:Decision Tree)\")\n",
    "        return\n",
    "    _ =text_clf.fit(train_set,train_label)\n",
    "    _ =joblib.dump(text_clf, modelname)"
   ]
  },
  {
   "cell_type": "code",
   "execution_count": 20,
   "metadata": {
    "collapsed": false
   },
   "outputs": [],
   "source": [
    "fitModel(df1,1,\"df1_naive_1.pkl\")\n",
    "fitModel(df1,2,\"df1_logit_2.pkl\")\n",
    "fitModel(df1,3,\"df1_svm_3.pkl\")\n",
    "fitModel(df1,4,\"df1_tree_4.pkl\")\n",
    "fitModel(df2,1,\"df2_naive_1.pkl\")\n",
    "fitModel(df2,2,\"df2_logit_2.pkl\")\n",
    "fitModel(df2,3,\"df2_svm_3.pkl\")\n",
    "fitModel(df2,4,\"df2_tree_4.pkl\")\n",
    "fitModel(df3,1,\"df3_naive_1.pkl\")\n",
    "fitModel(df3,2,\"df3_logit_2.pkl\")\n",
    "fitModel(df3,3,\"df3_svm_3.pkl\")\n",
    "fitModel(df3,4,\"df3_tree_4.pkl\")"
   ]
  },
  {
   "cell_type": "code",
   "execution_count": 207,
   "metadata": {
    "collapsed": false
   },
   "outputs": [
    {
     "name": "stdout",
     "output_type": "stream",
     "text": [
      "df3_naive_1.pkl\n",
      "Accuracy score=  0.662582469369\n",
      "Metrics classification report:\n",
      "                precision    recall  f1-score   support\n",
      "\n",
      "anger-disgust       0.58      0.98      0.73       428\n",
      "         fear       0.91      0.44      0.59       211\n",
      "          joy       0.73      0.56      0.63       213\n",
      "      sadness       0.92      0.34      0.50       209\n",
      "\n",
      "  avg / total       0.75      0.66      0.64      1061\n",
      "\n",
      "Confusion matrix:\n",
      " [[420   2   6   0]\n",
      " [103  92  11   5]\n",
      " [ 91   2 119   1]\n",
      " [106   5  26  72]]\n",
      "-------------------------------\n",
      "\n",
      "df3_logit_2.pkl\n",
      "Accuracy score=  0.725730442978\n",
      "Metrics classification report:\n",
      "                precision    recall  f1-score   support\n",
      "\n",
      "anger-disgust       0.65      0.95      0.77       428\n",
      "         fear       0.88      0.61      0.72       211\n",
      "          joy       0.76      0.64      0.69       213\n",
      "      sadness       0.93      0.47      0.63       209\n",
      "\n",
      "  avg / total       0.77      0.73      0.72      1061\n",
      "\n",
      "Confusion matrix:\n",
      " [[407   7  10   4]\n",
      " [ 68 128  11   4]\n",
      " [ 74   3 136   0]\n",
      " [ 80   7  23  99]]\n",
      "-------------------------------\n",
      "\n",
      "df3_svm_3.pkl\n",
      "Accuracy score=  0.726672950047\n",
      "Metrics classification report:\n",
      "                precision    recall  f1-score   support\n",
      "\n",
      "anger-disgust       0.65      0.95      0.77       428\n",
      "         fear       0.87      0.64      0.74       211\n",
      "          joy       0.74      0.63      0.68       213\n",
      "      sadness       0.94      0.46      0.62       209\n",
      "\n",
      "  avg / total       0.77      0.73      0.72      1061\n",
      "\n",
      "Confusion matrix:\n",
      " [[405  10  11   2]\n",
      " [ 60 136  12   3]\n",
      " [ 75   3 134   1]\n",
      " [ 81   8  24  96]]\n",
      "-------------------------------\n",
      "\n",
      "df3_tree_4.pkl\n",
      "Accuracy score=  0.657869934025\n",
      "Metrics classification report:\n",
      "                precision    recall  f1-score   support\n",
      "\n",
      "anger-disgust       0.72      0.73      0.72       428\n",
      "         fear       0.67      0.65      0.66       211\n",
      "          joy       0.57      0.66      0.61       213\n",
      "      sadness       0.62      0.52      0.56       209\n",
      "\n",
      "  avg / total       0.66      0.66      0.66      1061\n",
      "\n",
      "Confusion matrix:\n",
      " [[312  36  55  25]\n",
      " [ 39 137  20  15]\n",
      " [ 35  10 141  27]\n",
      " [ 49  21  31 108]]\n",
      "-------------------------------\n",
      "\n"
     ]
    }
   ],
   "source": [
    "#job_list=[\"df1_naive_1.pkl\",\"df1_logit_2.pkl\",\"df1_svm_3.pkl\",\"df1_tree_4.pkl\"]\n",
    "#job_list=[\"df2_naive_1.pkl\",\"df2_logit_2.pkl\",\"df2_svm_3.pkl\",\"df2_tree_4.pkl\"]\n",
    "job_list=[\"df3_naive_1.pkl\",\"df3_logit_2.pkl\",\"df3_svm_3.pkl\",\"df3_tree_4.pkl\"]\n",
    "data=df3\n",
    "train=int(len(data)/5*4)\n",
    "test_set=data['refined_content'].iloc[train:]\n",
    "test_label=data['sentiment'].iloc[train:]\n",
    "for j in job_list:\n",
    "    clf = joblib.load(j)\n",
    "    predicted = clf.predict(test_set)\n",
    "    print(j)\n",
    "    print(\"Accuracy score= \",clf.score(test_set,test_label))\n",
    "    print(\"Metrics classification report:\\n\",metrics.classification_report(test_label, predicted, target_names=clf.classes_))\n",
    "    print(\"Confusion matrix:\\n\",metrics.confusion_matrix(test_label, predicted))\n",
    "    print(\"-------------------------------\\n\")"
   ]
  },
  {
   "cell_type": "markdown",
   "metadata": {},
   "source": [
    "# 2. Verify if Dimensionality Reduction (SVD) can help in improving the classification results using SVM classifier."
   ]
  },
  {
   "cell_type": "code",
   "execution_count": 127,
   "metadata": {
    "collapsed": false
   },
   "outputs": [],
   "source": [
    "accuracy_list1=svd_clf_accuracyscore(df1)\n",
    "accuracy_list2=svd_clf_accuracyscore(df2)\n",
    "accuracy_list3=svd_clf_accuracyscore(df3)"
   ]
  },
  {
   "cell_type": "code",
   "execution_count": 126,
   "metadata": {
    "collapsed": false
   },
   "outputs": [],
   "source": [
    "def svd_clf_accuracyscore(data):\n",
    "    accuracy_list=[]\n",
    "    train=int(len(data)/5*4)\n",
    "    train_set=data['refined_content'].iloc[0:train]\n",
    "    train_label=data['sentiment'].iloc[0:train]\n",
    "    test_set=data['refined_content'].iloc[train:]\n",
    "    test_label=data['sentiment'].iloc[train:]\n",
    "    for i in range(100,1500,100):\n",
    "        svd_clf = Pipeline([('vect', CountVectorizer()),\n",
    "                         ('tfidf', TfidfTransformer(norm='l2', use_idf=True, smooth_idf=True, sublinear_tf=True)),\n",
    "                         ('svd', TruncatedSVD(n_components=i)),\n",
    "                         ('svm_clf', SGDClassifier(loss='hinge', penalty='l2',alpha=1e-3, n_iter=5, random_state=42))])\n",
    "        _ =svd_clf.fit(train_set,train_label)\n",
    "        predicted = svd_clf.predict(test_set)\n",
    "        accuracy_list.append(np.mean(predicted == test_label) )\n",
    "    return accuracy_list"
   ]
  },
  {
   "cell_type": "code",
   "execution_count": 206,
   "metadata": {
    "collapsed": false
   },
   "outputs": [
    {
     "data": {
      "text/plain": [
       "<matplotlib.legend.Legend at 0x9dc8eda470>"
      ]
     },
     "execution_count": 206,
     "metadata": {},
     "output_type": "execute_result"
    },
    {
     "data": {
      "image/png": "[encoded data removed]",
      "text/plain": [
       "<matplotlib.figure.Figure at 0x9dc8c1dd68>"
      ]
     },
     "metadata": {},
     "output_type": "display_data"
    }
   ],
   "source": [
    "import matplotlib.pyplot as plt\n",
    "%matplotlib inline  \n",
    "\n",
    "x=np.arange(100, 1500, 100)\n",
    "y=accuracy_list\n",
    "plt.plot(x,accuracy_list1,'r', label=\"Celicia's Affect Data\")\n",
    "plt.plot(x, accuracy_list2, 'g', label='SemEval 2007')\n",
    "plt.plot(x,accuracy_list3, 'b',label='ISEAR')\n",
    "plt.ylabel('Accuracy Score')\n",
    "plt.xlabel('n_components')\n",
    "plt.legend(bbox_to_anchor=(1.05, 1), loc=2, borderaxespad=0.)"
   ]
  },
  {
   "cell_type": "markdown",
   "metadata": {},
   "source": [
    "# Apply SVM classifier of ISEAR dataset to detect emotion in Human of NY's stories.\n",
    "There are 5 steps:\n",
    "- Load Human of NY dataset into a list of stories (test_data)\n",
    "- Data cleaning\n",
    "- Load the SVM classifier using fitModel(df3,3,\"df3_svm_3.pkl\")\n",
    "- Predict emotion of test_df\n",
    "- Visualize the predicted data"
   ]
  },
  {
   "cell_type": "markdown",
   "metadata": {},
   "source": [
    "# Human of NY Dataset\n",
    "Load data from file humanofNY.txt (stories are separated by a new line)"
   ]
  },
  {
   "cell_type": "code",
   "execution_count": 21,
   "metadata": {
    "collapsed": false
   },
   "outputs": [],
   "source": [
    "test_data = [line.rstrip('\\n') for line in open(\"T:/MSIM/LIS590TXL - Text Mining/Assignment/Final Project/Data Collection/humanofNY.txt\")]"
   ]
  },
  {
   "cell_type": "code",
   "execution_count": 22,
   "metadata": {
    "collapsed": false
   },
   "outputs": [],
   "source": [
    "test_df = pd.DataFrame({'content': test_data})\n",
    "test_df['sentiment']=\"NA\""
   ]
  },
  {
   "cell_type": "code",
   "execution_count": 23,
   "metadata": {
    "collapsed": false
   },
   "outputs": [],
   "source": [
    "#Clean content for test_df\n",
    "test_df=contentCleaning(test_df)"
   ]
  },
  {
   "cell_type": "code",
   "execution_count": 24,
   "metadata": {
    "collapsed": false
   },
   "outputs": [],
   "source": [
    "#load svm classifier and apply to predict emotion in test_df['refined_content']\n",
    "svm_clf = joblib.load(\"df3_svm_3.pkl\")\n",
    "predicted = svm_clf.predict(test_df['refined_content'])"
   ]
  },
  {
   "cell_type": "code",
   "execution_count": 25,
   "metadata": {
    "collapsed": false
   },
   "outputs": [],
   "source": [
    "test_df['sentiment']=predicted"
   ]
  },
  {
   "cell_type": "code",
   "execution_count": 26,
   "metadata": {
    "collapsed": false
   },
   "outputs": [
    {
     "data": {
      "text/html": [
       "<div>\n",
       "<table border=\"1\" class=\"dataframe\">\n",
       "  <thead>\n",
       "    <tr style=\"text-align: right;\">\n",
       "      <th></th>\n",
       "      <th>content</th>\n",
       "      <th>refined_content</th>\n",
       "    </tr>\n",
       "    <tr>\n",
       "      <th>sentiment</th>\n",
       "      <th></th>\n",
       "      <th></th>\n",
       "    </tr>\n",
       "  </thead>\n",
       "  <tbody>\n",
       "    <tr>\n",
       "      <th>anger-disgust</th>\n",
       "      <td>139</td>\n",
       "      <td>139</td>\n",
       "    </tr>\n",
       "    <tr>\n",
       "      <th>fear</th>\n",
       "      <td>17</td>\n",
       "      <td>17</td>\n",
       "    </tr>\n",
       "    <tr>\n",
       "      <th>joy</th>\n",
       "      <td>21</td>\n",
       "      <td>21</td>\n",
       "    </tr>\n",
       "    <tr>\n",
       "      <th>sadness</th>\n",
       "      <td>15</td>\n",
       "      <td>15</td>\n",
       "    </tr>\n",
       "  </tbody>\n",
       "</table>\n",
       "</div>"
      ],
      "text/plain": [
       "               content  refined_content\n",
       "sentiment                              \n",
       "anger-disgust      139              139\n",
       "fear                17               17\n",
       "joy                 21               21\n",
       "sadness             15               15"
      ]
     },
     "execution_count": 26,
     "metadata": {},
     "output_type": "execute_result"
    }
   ],
   "source": [
    "test_df.groupby('sentiment').count()"
   ]
  },
  {
   "cell_type": "code",
   "execution_count": 27,
   "metadata": {
    "collapsed": false
   },
   "outputs": [
    {
     "data": {
      "text/plain": [
       "<matplotlib.axes._subplots.AxesSubplot at 0x8ec35bc2e8>"
      ]
     },
     "execution_count": 27,
     "metadata": {},
     "output_type": "execute_result"
    },
    {
     "data": {
      "image/png": "[encoded data removed]",
      "text/plain": [
       "<matplotlib.figure.Figure at 0x8ecdd13ac8>"
      ]
     },
     "metadata": {},
     "output_type": "display_data"
    }
   ],
   "source": [
    "import matplotlib.pyplot as plt\n",
    "%matplotlib inline  \n",
    "\n",
    "test_df.groupby('sentiment')['content'].count().plot(kind='bar')"
   ]
  },
  {
   "cell_type": "code",
   "execution_count": 28,
   "metadata": {
    "collapsed": true
   },
   "outputs": [],
   "source": [
    "test_df['storyno']=np.arange(1,len(test_df)+1)"
   ]
  },
  {
   "cell_type": "code",
   "execution_count": 29,
   "metadata": {
    "collapsed": false
   },
   "outputs": [],
   "source": [
    "test_df2=pd.concat([pd.Series(row['storyno'], row['content'].split('.'))              \n",
    "                    for _, row in test_df.iterrows()]).reset_index()\n",
    "test_df2.columns = ['content', 'storyno']\n",
    "test_df2['sentiment']=\"NA\"\n",
    "test_df2=contentCleaning2(test_df2)\n",
    "test_df2=test_df2[~test_df2['refined_content'].isin([\"\",\" \"])]"
   ]
  },
  {
   "cell_type": "code",
   "execution_count": 30,
   "metadata": {
    "collapsed": false
   },
   "outputs": [],
   "source": [
    "predicted = svm_clf.predict(test_df2['refined_content'])"
   ]
  },
  {
   "cell_type": "code",
   "execution_count": 31,
   "metadata": {
    "collapsed": false
   },
   "outputs": [],
   "source": [
    "test_df2['sentiment']=predicted"
   ]
  },
  {
   "cell_type": "code",
   "execution_count": 32,
   "metadata": {
    "collapsed": false
   },
   "outputs": [
    {
     "data": {
      "text/html": [
       "<div>\n",
       "<table border=\"1\" class=\"dataframe\">\n",
       "  <thead>\n",
       "    <tr style=\"text-align: right;\">\n",
       "      <th></th>\n",
       "      <th></th>\n",
       "      <th>content</th>\n",
       "      <th>refined_content</th>\n",
       "    </tr>\n",
       "    <tr>\n",
       "      <th>storyno</th>\n",
       "      <th>sentiment</th>\n",
       "      <th></th>\n",
       "      <th></th>\n",
       "    </tr>\n",
       "  </thead>\n",
       "  <tbody>\n",
       "    <tr>\n",
       "      <th rowspan=\"3\" valign=\"top\">1</th>\n",
       "      <th>anger-disgust</th>\n",
       "      <td>7</td>\n",
       "      <td>7</td>\n",
       "    </tr>\n",
       "    <tr>\n",
       "      <th>fear</th>\n",
       "      <td>1</td>\n",
       "      <td>1</td>\n",
       "    </tr>\n",
       "    <tr>\n",
       "      <th>joy</th>\n",
       "      <td>1</td>\n",
       "      <td>1</td>\n",
       "    </tr>\n",
       "    <tr>\n",
       "      <th rowspan=\"2\" valign=\"top\">2</th>\n",
       "      <th>anger-disgust</th>\n",
       "      <td>4</td>\n",
       "      <td>4</td>\n",
       "    </tr>\n",
       "    <tr>\n",
       "      <th>fear</th>\n",
       "      <td>1</td>\n",
       "      <td>1</td>\n",
       "    </tr>\n",
       "    <tr>\n",
       "      <th>3</th>\n",
       "      <th>anger-disgust</th>\n",
       "      <td>7</td>\n",
       "      <td>7</td>\n",
       "    </tr>\n",
       "    <tr>\n",
       "      <th rowspan=\"4\" valign=\"top\">4</th>\n",
       "      <th>anger-disgust</th>\n",
       "      <td>23</td>\n",
       "      <td>23</td>\n",
       "    </tr>\n",
       "    <tr>\n",
       "      <th>fear</th>\n",
       "      <td>4</td>\n",
       "      <td>4</td>\n",
       "    </tr>\n",
       "    <tr>\n",
       "      <th>joy</th>\n",
       "      <td>1</td>\n",
       "      <td>1</td>\n",
       "    </tr>\n",
       "    <tr>\n",
       "      <th>sadness</th>\n",
       "      <td>2</td>\n",
       "      <td>2</td>\n",
       "    </tr>\n",
       "    <tr>\n",
       "      <th rowspan=\"3\" valign=\"top\">5</th>\n",
       "      <th>anger-disgust</th>\n",
       "      <td>8</td>\n",
       "      <td>8</td>\n",
       "    </tr>\n",
       "    <tr>\n",
       "      <th>fear</th>\n",
       "      <td>5</td>\n",
       "      <td>5</td>\n",
       "    </tr>\n",
       "    <tr>\n",
       "      <th>sadness</th>\n",
       "      <td>1</td>\n",
       "      <td>1</td>\n",
       "    </tr>\n",
       "    <tr>\n",
       "      <th rowspan=\"4\" valign=\"top\">6</th>\n",
       "      <th>anger-disgust</th>\n",
       "      <td>6</td>\n",
       "      <td>6</td>\n",
       "    </tr>\n",
       "    <tr>\n",
       "      <th>fear</th>\n",
       "      <td>2</td>\n",
       "      <td>2</td>\n",
       "    </tr>\n",
       "    <tr>\n",
       "      <th>joy</th>\n",
       "      <td>5</td>\n",
       "      <td>5</td>\n",
       "    </tr>\n",
       "    <tr>\n",
       "      <th>sadness</th>\n",
       "      <td>1</td>\n",
       "      <td>1</td>\n",
       "    </tr>\n",
       "    <tr>\n",
       "      <th rowspan=\"2\" valign=\"top\">7</th>\n",
       "      <th>anger-disgust</th>\n",
       "      <td>14</td>\n",
       "      <td>14</td>\n",
       "    </tr>\n",
       "    <tr>\n",
       "      <th>fear</th>\n",
       "      <td>1</td>\n",
       "      <td>1</td>\n",
       "    </tr>\n",
       "    <tr>\n",
       "      <th rowspan=\"3\" valign=\"top\">8</th>\n",
       "      <th>anger-disgust</th>\n",
       "      <td>12</td>\n",
       "      <td>12</td>\n",
       "    </tr>\n",
       "    <tr>\n",
       "      <th>joy</th>\n",
       "      <td>1</td>\n",
       "      <td>1</td>\n",
       "    </tr>\n",
       "    <tr>\n",
       "      <th>sadness</th>\n",
       "      <td>1</td>\n",
       "      <td>1</td>\n",
       "    </tr>\n",
       "    <tr>\n",
       "      <th rowspan=\"3\" valign=\"top\">9</th>\n",
       "      <th>anger-disgust</th>\n",
       "      <td>6</td>\n",
       "      <td>6</td>\n",
       "    </tr>\n",
       "    <tr>\n",
       "      <th>joy</th>\n",
       "      <td>1</td>\n",
       "      <td>1</td>\n",
       "    </tr>\n",
       "    <tr>\n",
       "      <th>sadness</th>\n",
       "      <td>1</td>\n",
       "      <td>1</td>\n",
       "    </tr>\n",
       "    <tr>\n",
       "      <th rowspan=\"2\" valign=\"top\">10</th>\n",
       "      <th>anger-disgust</th>\n",
       "      <td>13</td>\n",
       "      <td>13</td>\n",
       "    </tr>\n",
       "    <tr>\n",
       "      <th>joy</th>\n",
       "      <td>2</td>\n",
       "      <td>2</td>\n",
       "    </tr>\n",
       "    <tr>\n",
       "      <th rowspan=\"2\" valign=\"top\">11</th>\n",
       "      <th>anger-disgust</th>\n",
       "      <td>9</td>\n",
       "      <td>9</td>\n",
       "    </tr>\n",
       "    <tr>\n",
       "      <th>joy</th>\n",
       "      <td>2</td>\n",
       "      <td>2</td>\n",
       "    </tr>\n",
       "    <tr>\n",
       "      <th>12</th>\n",
       "      <th>anger-disgust</th>\n",
       "      <td>11</td>\n",
       "      <td>11</td>\n",
       "    </tr>\n",
       "    <tr>\n",
       "      <th>...</th>\n",
       "      <th>...</th>\n",
       "      <td>...</td>\n",
       "      <td>...</td>\n",
       "    </tr>\n",
       "    <tr>\n",
       "      <th rowspan=\"2\" valign=\"top\">180</th>\n",
       "      <th>joy</th>\n",
       "      <td>1</td>\n",
       "      <td>1</td>\n",
       "    </tr>\n",
       "    <tr>\n",
       "      <th>sadness</th>\n",
       "      <td>1</td>\n",
       "      <td>1</td>\n",
       "    </tr>\n",
       "    <tr>\n",
       "      <th rowspan=\"4\" valign=\"top\">181</th>\n",
       "      <th>anger-disgust</th>\n",
       "      <td>18</td>\n",
       "      <td>18</td>\n",
       "    </tr>\n",
       "    <tr>\n",
       "      <th>fear</th>\n",
       "      <td>1</td>\n",
       "      <td>1</td>\n",
       "    </tr>\n",
       "    <tr>\n",
       "      <th>joy</th>\n",
       "      <td>4</td>\n",
       "      <td>4</td>\n",
       "    </tr>\n",
       "    <tr>\n",
       "      <th>sadness</th>\n",
       "      <td>1</td>\n",
       "      <td>1</td>\n",
       "    </tr>\n",
       "    <tr>\n",
       "      <th>182</th>\n",
       "      <th>anger-disgust</th>\n",
       "      <td>2</td>\n",
       "      <td>2</td>\n",
       "    </tr>\n",
       "    <tr>\n",
       "      <th rowspan=\"2\" valign=\"top\">183</th>\n",
       "      <th>anger-disgust</th>\n",
       "      <td>12</td>\n",
       "      <td>12</td>\n",
       "    </tr>\n",
       "    <tr>\n",
       "      <th>joy</th>\n",
       "      <td>2</td>\n",
       "      <td>2</td>\n",
       "    </tr>\n",
       "    <tr>\n",
       "      <th rowspan=\"4\" valign=\"top\">184</th>\n",
       "      <th>anger-disgust</th>\n",
       "      <td>14</td>\n",
       "      <td>14</td>\n",
       "    </tr>\n",
       "    <tr>\n",
       "      <th>fear</th>\n",
       "      <td>1</td>\n",
       "      <td>1</td>\n",
       "    </tr>\n",
       "    <tr>\n",
       "      <th>joy</th>\n",
       "      <td>1</td>\n",
       "      <td>1</td>\n",
       "    </tr>\n",
       "    <tr>\n",
       "      <th>sadness</th>\n",
       "      <td>2</td>\n",
       "      <td>2</td>\n",
       "    </tr>\n",
       "    <tr>\n",
       "      <th>185</th>\n",
       "      <th>anger-disgust</th>\n",
       "      <td>2</td>\n",
       "      <td>2</td>\n",
       "    </tr>\n",
       "    <tr>\n",
       "      <th rowspan=\"3\" valign=\"top\">186</th>\n",
       "      <th>anger-disgust</th>\n",
       "      <td>17</td>\n",
       "      <td>17</td>\n",
       "    </tr>\n",
       "    <tr>\n",
       "      <th>fear</th>\n",
       "      <td>1</td>\n",
       "      <td>1</td>\n",
       "    </tr>\n",
       "    <tr>\n",
       "      <th>joy</th>\n",
       "      <td>3</td>\n",
       "      <td>3</td>\n",
       "    </tr>\n",
       "    <tr>\n",
       "      <th rowspan=\"3\" valign=\"top\">187</th>\n",
       "      <th>anger-disgust</th>\n",
       "      <td>6</td>\n",
       "      <td>6</td>\n",
       "    </tr>\n",
       "    <tr>\n",
       "      <th>fear</th>\n",
       "      <td>2</td>\n",
       "      <td>2</td>\n",
       "    </tr>\n",
       "    <tr>\n",
       "      <th>sadness</th>\n",
       "      <td>1</td>\n",
       "      <td>1</td>\n",
       "    </tr>\n",
       "    <tr>\n",
       "      <th>188</th>\n",
       "      <th>anger-disgust</th>\n",
       "      <td>2</td>\n",
       "      <td>2</td>\n",
       "    </tr>\n",
       "    <tr>\n",
       "      <th rowspan=\"3\" valign=\"top\">189</th>\n",
       "      <th>anger-disgust</th>\n",
       "      <td>11</td>\n",
       "      <td>11</td>\n",
       "    </tr>\n",
       "    <tr>\n",
       "      <th>joy</th>\n",
       "      <td>3</td>\n",
       "      <td>3</td>\n",
       "    </tr>\n",
       "    <tr>\n",
       "      <th>sadness</th>\n",
       "      <td>3</td>\n",
       "      <td>3</td>\n",
       "    </tr>\n",
       "    <tr>\n",
       "      <th rowspan=\"2\" valign=\"top\">190</th>\n",
       "      <th>anger-disgust</th>\n",
       "      <td>11</td>\n",
       "      <td>11</td>\n",
       "    </tr>\n",
       "    <tr>\n",
       "      <th>fear</th>\n",
       "      <td>1</td>\n",
       "      <td>1</td>\n",
       "    </tr>\n",
       "    <tr>\n",
       "      <th rowspan=\"3\" valign=\"top\">191</th>\n",
       "      <th>anger-disgust</th>\n",
       "      <td>9</td>\n",
       "      <td>9</td>\n",
       "    </tr>\n",
       "    <tr>\n",
       "      <th>fear</th>\n",
       "      <td>5</td>\n",
       "      <td>5</td>\n",
       "    </tr>\n",
       "    <tr>\n",
       "      <th>joy</th>\n",
       "      <td>1</td>\n",
       "      <td>1</td>\n",
       "    </tr>\n",
       "    <tr>\n",
       "      <th>192</th>\n",
       "      <th>anger-disgust</th>\n",
       "      <td>1</td>\n",
       "      <td>1</td>\n",
       "    </tr>\n",
       "  </tbody>\n",
       "</table>\n",
       "<p>478 rows × 2 columns</p>\n",
       "</div>"
      ],
      "text/plain": [
       "                       content  refined_content\n",
       "storyno sentiment                              \n",
       "1       anger-disgust        7                7\n",
       "        fear                 1                1\n",
       "        joy                  1                1\n",
       "2       anger-disgust        4                4\n",
       "        fear                 1                1\n",
       "3       anger-disgust        7                7\n",
       "4       anger-disgust       23               23\n",
       "        fear                 4                4\n",
       "        joy                  1                1\n",
       "        sadness              2                2\n",
       "5       anger-disgust        8                8\n",
       "        fear                 5                5\n",
       "        sadness              1                1\n",
       "6       anger-disgust        6                6\n",
       "        fear                 2                2\n",
       "        joy                  5                5\n",
       "        sadness              1                1\n",
       "7       anger-disgust       14               14\n",
       "        fear                 1                1\n",
       "8       anger-disgust       12               12\n",
       "        joy                  1                1\n",
       "        sadness              1                1\n",
       "9       anger-disgust        6                6\n",
       "        joy                  1                1\n",
       "        sadness              1                1\n",
       "10      anger-disgust       13               13\n",
       "        joy                  2                2\n",
       "11      anger-disgust        9                9\n",
       "        joy                  2                2\n",
       "12      anger-disgust       11               11\n",
       "...                        ...              ...\n",
       "180     joy                  1                1\n",
       "        sadness              1                1\n",
       "181     anger-disgust       18               18\n",
       "        fear                 1                1\n",
       "        joy                  4                4\n",
       "        sadness              1                1\n",
       "182     anger-disgust        2                2\n",
       "183     anger-disgust       12               12\n",
       "        joy                  2                2\n",
       "184     anger-disgust       14               14\n",
       "        fear                 1                1\n",
       "        joy                  1                1\n",
       "        sadness              2                2\n",
       "185     anger-disgust        2                2\n",
       "186     anger-disgust       17               17\n",
       "        fear                 1                1\n",
       "        joy                  3                3\n",
       "187     anger-disgust        6                6\n",
       "        fear                 2                2\n",
       "        sadness              1                1\n",
       "188     anger-disgust        2                2\n",
       "189     anger-disgust       11               11\n",
       "        joy                  3                3\n",
       "        sadness              3                3\n",
       "190     anger-disgust       11               11\n",
       "        fear                 1                1\n",
       "191     anger-disgust        9                9\n",
       "        fear                 5                5\n",
       "        joy                  1                1\n",
       "192     anger-disgust        1                1\n",
       "\n",
       "[478 rows x 2 columns]"
      ]
     },
     "execution_count": 32,
     "metadata": {},
     "output_type": "execute_result"
    }
   ],
   "source": [
    "test_df2.groupby(['storyno','sentiment']).count()"
   ]
  },
  {
   "cell_type": "code",
   "execution_count": 33,
   "metadata": {
    "collapsed": false
   },
   "outputs": [
    {
     "data": {
      "text/plain": [
       "<matplotlib.axes._subplots.AxesSubplot at 0x8ed3c13f60>"
      ]
     },
     "execution_count": 33,
     "metadata": {},
     "output_type": "execute_result"
    },
    {
     "data": {
      "image/png": "[encoded data removed]",
      "text/plain": [
       "<matplotlib.figure.Figure at 0x8ed3b52e80>"
      ]
     },
     "metadata": {},
     "output_type": "display_data"
    }
   ],
   "source": [
    "test_df2[['storyno','sentiment']].drop_duplicates().groupby('sentiment').count().plot(kind='bar')"
   ]
  },
  {
   "cell_type": "code",
   "execution_count": 117,
   "metadata": {
    "collapsed": false
   },
   "outputs": [],
   "source": [
    "#get the story number included in each emotion (for generating Venn diagram)\n",
    "tmp_df=test_df2[['storyno','sentiment']].drop_duplicates()\n",
    "allstories_set=set(np.arange(1,193))\n",
    "angerdisgust_set=set(tmp_df[tmp_df['sentiment']=='anger-disgust']['storyno'])\n",
    "fear_set=set(tmp_df[tmp_df['sentiment']=='fear']['storyno'])\n",
    "joy_set=set(tmp_df[tmp_df['sentiment']=='joy']['storyno'])\n",
    "sadness_set=set(tmp_df[tmp_df['sentiment']=='sadness']['storyno'])"
   ]
  },
  {
   "cell_type": "code",
   "execution_count": 122,
   "metadata": {
    "collapsed": false
   },
   "outputs": [
    {
     "data": {
      "text/plain": [
       "{20, 94}"
      ]
     },
     "execution_count": 122,
     "metadata": {},
     "output_type": "execute_result"
    }
   ],
   "source": [
    "#Find the stories do not have anger-disgust emotion.\n",
    "allstories_set-angerdisgust_set"
   ]
  },
  {
   "cell_type": "code",
   "execution_count": 123,
   "metadata": {
    "collapsed": false
   },
   "outputs": [
    {
     "data": {
      "text/html": [
       "<div>\n",
       "<table border=\"1\" class=\"dataframe\">\n",
       "  <thead>\n",
       "    <tr style=\"text-align: right;\">\n",
       "      <th></th>\n",
       "      <th>content</th>\n",
       "      <th>storyno</th>\n",
       "      <th>sentiment</th>\n",
       "      <th>refined_content</th>\n",
       "    </tr>\n",
       "  </thead>\n",
       "  <tbody>\n",
       "    <tr>\n",
       "      <th>251</th>\n",
       "      <td>“He fell in love with me because I used to hav...</td>\n",
       "      <td>20</td>\n",
       "      <td>joy</td>\n",
       "      <td>fell love used huge as</td>\n",
       "    </tr>\n",
       "    <tr>\n",
       "      <th>1316</th>\n",
       "      <td>“If I think back, I get depressed</td>\n",
       "      <td>94</td>\n",
       "      <td>sadness</td>\n",
       "      <td>think back get depressed</td>\n",
       "    </tr>\n",
       "    <tr>\n",
       "      <th>1317</th>\n",
       "      <td>If I think ahead, I get afraid</td>\n",
       "      <td>94</td>\n",
       "      <td>fear</td>\n",
       "      <td>think ahead get afraid</td>\n",
       "    </tr>\n",
       "  </tbody>\n",
       "</table>\n",
       "</div>"
      ],
      "text/plain": [
       "                                                content  storyno sentiment  \\\n",
       "251   “He fell in love with me because I used to hav...       20       joy   \n",
       "1316                  “If I think back, I get depressed       94   sadness   \n",
       "1317                     If I think ahead, I get afraid       94      fear   \n",
       "\n",
       "                refined_content  \n",
       "251      fell love used huge as  \n",
       "1316   think back get depressed  \n",
       "1317     think ahead get afraid  "
      ]
     },
     "execution_count": 123,
     "metadata": {},
     "output_type": "execute_result"
    }
   ],
   "source": [
    "#get the details of stories do not have anger-disgust emotion\n",
    "test_df2[test_df2['storyno'].isin([20,94])]"
   ]
  },
  {
   "cell_type": "code",
   "execution_count": 124,
   "metadata": {
    "collapsed": false
   },
   "outputs": [
    {
     "data": {
      "text/plain": [
       "<matplotlib_venn._common.VennDiagram at 0x8ed3d0b5c0>"
      ]
     },
     "execution_count": 124,
     "metadata": {},
     "output_type": "execute_result"
    },
    {
     "data": {
      "image/png": "[encoded data removed]",
      "text/plain": [
       "<matplotlib.figure.Figure at 0x8ecdc842e8>"
      ]
     },
     "metadata": {},
     "output_type": "display_data"
    }
   ],
   "source": [
    "#venn diagram to show the intersection of fear, joy and sadness\n",
    "from matplotlib_venn import venn3\n",
    "venn3([ fear_set,joy_set,sadness_set], ( 'fear','joy','sadness'))"
   ]
  },
  {
   "cell_type": "code",
   "execution_count": 103,
   "metadata": {
    "collapsed": false
   },
   "outputs": [
    {
     "data": {
      "text/html": [
       "<div>\n",
       "<table border=\"1\" class=\"dataframe\">\n",
       "  <thead>\n",
       "    <tr style=\"text-align: right;\">\n",
       "      <th></th>\n",
       "      <th>content</th>\n",
       "      <th>storyno</th>\n",
       "      <th>sentiment</th>\n",
       "      <th>refined_content</th>\n",
       "    </tr>\n",
       "  </thead>\n",
       "  <tbody>\n",
       "    <tr>\n",
       "      <th>1132</th>\n",
       "      <td>I was working as a security guard and my chil...</td>\n",
       "      <td>82</td>\n",
       "      <td>anger-disgust</td>\n",
       "      <td>working security guard child suffering</td>\n",
       "    </tr>\n",
       "    <tr>\n",
       "      <th>1164</th>\n",
       "      <td>Now we’ve spent the whole day together</td>\n",
       "      <td>84</td>\n",
       "      <td>joy</td>\n",
       "      <td>we’ve spent whole day together</td>\n",
       "    </tr>\n",
       "    <tr>\n",
       "      <th>2304</th>\n",
       "      <td>She would never respond when we tried to corr...</td>\n",
       "      <td>157</td>\n",
       "      <td>anger-disgust</td>\n",
       "      <td>would never respond tried correct</td>\n",
       "    </tr>\n",
       "    <tr>\n",
       "      <th>2273</th>\n",
       "      <td>And eleven hamsters</td>\n",
       "      <td>154</td>\n",
       "      <td>anger-disgust</td>\n",
       "      <td>eleven hamster</td>\n",
       "    </tr>\n",
       "    <tr>\n",
       "      <th>2328</th>\n",
       "      <td>“Ten years ago I lost my job at a hotel</td>\n",
       "      <td>159</td>\n",
       "      <td>sadness</td>\n",
       "      <td>ten year ago lost job hotel</td>\n",
       "    </tr>\n",
       "    <tr>\n",
       "      <th>234</th>\n",
       "      <td>I take the medicine because it’s part of the ...</td>\n",
       "      <td>18</td>\n",
       "      <td>anger-disgust</td>\n",
       "      <td>take medicine it’s part deal apartment i’m me...</td>\n",
       "    </tr>\n",
       "    <tr>\n",
       "      <th>2536</th>\n",
       "      <td>She was bleeding internally and had a blood c...</td>\n",
       "      <td>173</td>\n",
       "      <td>anger-disgust</td>\n",
       "      <td>bleeding internally blood clot leg</td>\n",
       "    </tr>\n",
       "    <tr>\n",
       "      <th>1798</th>\n",
       "      <td>For awhile I was so depressed that I couldn’t...</td>\n",
       "      <td>128</td>\n",
       "      <td>sadness</td>\n",
       "      <td>awhile depressed couldn’t leave room</td>\n",
       "    </tr>\n",
       "    <tr>\n",
       "      <th>233</th>\n",
       "      <td>But I’m not mentally ill</td>\n",
       "      <td>18</td>\n",
       "      <td>anger-disgust</td>\n",
       "      <td>i’m mentally ill</td>\n",
       "    </tr>\n",
       "    <tr>\n",
       "      <th>2754</th>\n",
       "      <td>I had to carry it up the hill</td>\n",
       "      <td>191</td>\n",
       "      <td>anger-disgust</td>\n",
       "      <td>carry hill</td>\n",
       "    </tr>\n",
       "    <tr>\n",
       "      <th>2696</th>\n",
       "      <td>’ All my friends forgot about me</td>\n",
       "      <td>186</td>\n",
       "      <td>anger-disgust</td>\n",
       "      <td>friend forgot</td>\n",
       "    </tr>\n",
       "    <tr>\n",
       "      <th>41</th>\n",
       "      <td>I was going to midweek services</td>\n",
       "      <td>4</td>\n",
       "      <td>fear</td>\n",
       "      <td>going midweek service</td>\n",
       "    </tr>\n",
       "    <tr>\n",
       "      <th>149</th>\n",
       "      <td>He makes me feel like a princess</td>\n",
       "      <td>11</td>\n",
       "      <td>anger-disgust</td>\n",
       "      <td>make feel like princess</td>\n",
       "    </tr>\n",
       "    <tr>\n",
       "      <th>2665</th>\n",
       "      <td>I always thought the relationship between a m...</td>\n",
       "      <td>184</td>\n",
       "      <td>sadness</td>\n",
       "      <td>always thought relationship mother child givi...</td>\n",
       "    </tr>\n",
       "    <tr>\n",
       "      <th>1411</th>\n",
       "      <td>We don’t know exactly what happened</td>\n",
       "      <td>100</td>\n",
       "      <td>anger-disgust</td>\n",
       "      <td>don’t know exactly happened</td>\n",
       "    </tr>\n",
       "  </tbody>\n",
       "</table>\n",
       "</div>"
      ],
      "text/plain": [
       "                                                content  storyno  \\\n",
       "1132   I was working as a security guard and my chil...       82   \n",
       "1164             Now we’ve spent the whole day together       84   \n",
       "2304   She would never respond when we tried to corr...      157   \n",
       "2273                                And eleven hamsters      154   \n",
       "2328            “Ten years ago I lost my job at a hotel      159   \n",
       "234    I take the medicine because it’s part of the ...       18   \n",
       "2536   She was bleeding internally and had a blood c...      173   \n",
       "1798   For awhile I was so depressed that I couldn’t...      128   \n",
       "233                            But I’m not mentally ill       18   \n",
       "2754                      I had to carry it up the hill      191   \n",
       "2696                   ’ All my friends forgot about me      186   \n",
       "41                      I was going to midweek services        4   \n",
       "149                    He makes me feel like a princess       11   \n",
       "2665   I always thought the relationship between a m...      184   \n",
       "1411                We don’t know exactly what happened      100   \n",
       "\n",
       "          sentiment                                    refined_content  \n",
       "1132  anger-disgust             working security guard child suffering  \n",
       "1164            joy                     we’ve spent whole day together  \n",
       "2304  anger-disgust                  would never respond tried correct  \n",
       "2273  anger-disgust                                     eleven hamster  \n",
       "2328        sadness                        ten year ago lost job hotel  \n",
       "234   anger-disgust   take medicine it’s part deal apartment i’m me...  \n",
       "2536  anger-disgust                 bleeding internally blood clot leg  \n",
       "1798        sadness               awhile depressed couldn’t leave room  \n",
       "233   anger-disgust                                   i’m mentally ill  \n",
       "2754  anger-disgust                                         carry hill  \n",
       "2696  anger-disgust                                      friend forgot  \n",
       "41             fear                              going midweek service  \n",
       "149   anger-disgust                            make feel like princess  \n",
       "2665        sadness   always thought relationship mother child givi...  \n",
       "1411  anger-disgust                        don’t know exactly happened  "
      ]
     },
     "execution_count": 103,
     "metadata": {},
     "output_type": "execute_result"
    }
   ],
   "source": [
    "#spot check\n",
    "test_df2.sample(15)"
   ]
  }
 ],
 "metadata": {
  "anaconda-cloud": {},
  "kernelspec": {
   "display_name": "Python [conda root]",
   "language": "python",
   "name": "conda-root-py"
  },
  "language_info": {
   "codemirror_mode": {
    "name": "ipython",
    "version": 3
   },
   "file_extension": ".py",
   "mimetype": "text/x-python",
   "name": "python",
   "nbconvert_exporter": "python",
   "pygments_lexer": "ipython3",
   "version": "3.5.2"
  }
 },
 "nbformat": 4,
 "nbformat_minor": 1
}
